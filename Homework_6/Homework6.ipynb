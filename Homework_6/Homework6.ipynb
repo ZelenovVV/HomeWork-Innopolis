{
  "nbformat": 4,
  "nbformat_minor": 0,
  "metadata": {
    "colab": {
      "provenance": []
    },
    "kernelspec": {
      "name": "python3",
      "display_name": "Python 3"
    },
    "language_info": {
      "name": "python"
    }
  },
  "cells": [
    {
      "cell_type": "markdown",
      "source": [
        "**Задача.** Необходимо загрузить и обработать предложенный датасет(Титаник), провести аналитику данных с помощью фреймворка Python Pandas, визуализировать результаты аналитики.\n"
      ],
      "metadata": {
        "id": "XdQnsudROhqF"
      }
    },
    {
      "cell_type": "code",
      "execution_count": null,
      "metadata": {
        "id": "CRC9e0tflB4w"
      },
      "outputs": [],
      "source": [
        "import pandas as pd\n",
        "import numpy as np\n",
        "import seaborn as sns\n",
        "import matplotlib.pyplot as plt"
      ]
    },
    {
      "cell_type": "markdown",
      "source": [
        "1. Загрузка датасета"
      ],
      "metadata": {
        "id": "BM6v9OrSO6fi"
      }
    },
    {
      "cell_type": "code",
      "source": [
        "url = 'https://drive.google.com/file/d/16MAuRsO7t_0hjWJPp4YN7cojyo3TA60p/view?usp=sharing'\n",
        "path = 'https://drive.google.com/uc?export=download&id=' + url.split('/')[-2]\n",
        "TitanicDB = pd.read_csv(path)\n",
        "TitanicDB.head()"
      ],
      "metadata": {
        "colab": {
          "base_uri": "https://localhost:8080/",
          "height": 206
        },
        "id": "TYLcRF0QlO_k",
        "outputId": "c5bf400c-cc63-4a0d-d156-e5e2060518b9"
      },
      "execution_count": null,
      "outputs": [
        {
          "output_type": "execute_result",
          "data": {
            "text/plain": [
              "   PassengerId  Survived  Pclass  \\\n",
              "0            1         0       3   \n",
              "1            2         1       1   \n",
              "2            3         1       3   \n",
              "3            4         1       1   \n",
              "4            5         0       3   \n",
              "\n",
              "                                                Name     Sex   Age  SibSp  \\\n",
              "0                            Braund, Mr. Owen Harris    male  22.0      1   \n",
              "1  Cumings, Mrs. John Bradley (Florence Briggs Th...  female  38.0      1   \n",
              "2                             Heikkinen, Miss. Laina  female  26.0      0   \n",
              "3       Futrelle, Mrs. Jacques Heath (Lily May Peel)  female  35.0      1   \n",
              "4                           Allen, Mr. William Henry    male  35.0      0   \n",
              "\n",
              "   Parch            Ticket     Fare Cabin Embarked  \n",
              "0      0         A/5 21171   7.2500   NaN        S  \n",
              "1      0          PC 17599  71.2833   C85        C  \n",
              "2      0  STON/O2. 3101282   7.9250   NaN        S  \n",
              "3      0            113803  53.1000  C123        S  \n",
              "4      0            373450   8.0500   NaN        S  "
            ],
            "text/html": [
              "\n",
              "\n",
              "  <div id=\"df-4c30da76-6f9d-46a3-b493-90264b13667e\">\n",
              "    <div class=\"colab-df-container\">\n",
              "      <div>\n",
              "<style scoped>\n",
              "    .dataframe tbody tr th:only-of-type {\n",
              "        vertical-align: middle;\n",
              "    }\n",
              "\n",
              "    .dataframe tbody tr th {\n",
              "        vertical-align: top;\n",
              "    }\n",
              "\n",
              "    .dataframe thead th {\n",
              "        text-align: right;\n",
              "    }\n",
              "</style>\n",
              "<table border=\"1\" class=\"dataframe\">\n",
              "  <thead>\n",
              "    <tr style=\"text-align: right;\">\n",
              "      <th></th>\n",
              "      <th>PassengerId</th>\n",
              "      <th>Survived</th>\n",
              "      <th>Pclass</th>\n",
              "      <th>Name</th>\n",
              "      <th>Sex</th>\n",
              "      <th>Age</th>\n",
              "      <th>SibSp</th>\n",
              "      <th>Parch</th>\n",
              "      <th>Ticket</th>\n",
              "      <th>Fare</th>\n",
              "      <th>Cabin</th>\n",
              "      <th>Embarked</th>\n",
              "    </tr>\n",
              "  </thead>\n",
              "  <tbody>\n",
              "    <tr>\n",
              "      <th>0</th>\n",
              "      <td>1</td>\n",
              "      <td>0</td>\n",
              "      <td>3</td>\n",
              "      <td>Braund, Mr. Owen Harris</td>\n",
              "      <td>male</td>\n",
              "      <td>22.0</td>\n",
              "      <td>1</td>\n",
              "      <td>0</td>\n",
              "      <td>A/5 21171</td>\n",
              "      <td>7.2500</td>\n",
              "      <td>NaN</td>\n",
              "      <td>S</td>\n",
              "    </tr>\n",
              "    <tr>\n",
              "      <th>1</th>\n",
              "      <td>2</td>\n",
              "      <td>1</td>\n",
              "      <td>1</td>\n",
              "      <td>Cumings, Mrs. John Bradley (Florence Briggs Th...</td>\n",
              "      <td>female</td>\n",
              "      <td>38.0</td>\n",
              "      <td>1</td>\n",
              "      <td>0</td>\n",
              "      <td>PC 17599</td>\n",
              "      <td>71.2833</td>\n",
              "      <td>C85</td>\n",
              "      <td>C</td>\n",
              "    </tr>\n",
              "    <tr>\n",
              "      <th>2</th>\n",
              "      <td>3</td>\n",
              "      <td>1</td>\n",
              "      <td>3</td>\n",
              "      <td>Heikkinen, Miss. Laina</td>\n",
              "      <td>female</td>\n",
              "      <td>26.0</td>\n",
              "      <td>0</td>\n",
              "      <td>0</td>\n",
              "      <td>STON/O2. 3101282</td>\n",
              "      <td>7.9250</td>\n",
              "      <td>NaN</td>\n",
              "      <td>S</td>\n",
              "    </tr>\n",
              "    <tr>\n",
              "      <th>3</th>\n",
              "      <td>4</td>\n",
              "      <td>1</td>\n",
              "      <td>1</td>\n",
              "      <td>Futrelle, Mrs. Jacques Heath (Lily May Peel)</td>\n",
              "      <td>female</td>\n",
              "      <td>35.0</td>\n",
              "      <td>1</td>\n",
              "      <td>0</td>\n",
              "      <td>113803</td>\n",
              "      <td>53.1000</td>\n",
              "      <td>C123</td>\n",
              "      <td>S</td>\n",
              "    </tr>\n",
              "    <tr>\n",
              "      <th>4</th>\n",
              "      <td>5</td>\n",
              "      <td>0</td>\n",
              "      <td>3</td>\n",
              "      <td>Allen, Mr. William Henry</td>\n",
              "      <td>male</td>\n",
              "      <td>35.0</td>\n",
              "      <td>0</td>\n",
              "      <td>0</td>\n",
              "      <td>373450</td>\n",
              "      <td>8.0500</td>\n",
              "      <td>NaN</td>\n",
              "      <td>S</td>\n",
              "    </tr>\n",
              "  </tbody>\n",
              "</table>\n",
              "</div>\n",
              "      <button class=\"colab-df-convert\" onclick=\"convertToInteractive('df-4c30da76-6f9d-46a3-b493-90264b13667e')\"\n",
              "              title=\"Convert this dataframe to an interactive table.\"\n",
              "              style=\"display:none;\">\n",
              "\n",
              "  <svg xmlns=\"http://www.w3.org/2000/svg\" height=\"24px\"viewBox=\"0 0 24 24\"\n",
              "       width=\"24px\">\n",
              "    <path d=\"M0 0h24v24H0V0z\" fill=\"none\"/>\n",
              "    <path d=\"M18.56 5.44l.94 2.06.94-2.06 2.06-.94-2.06-.94-.94-2.06-.94 2.06-2.06.94zm-11 1L8.5 8.5l.94-2.06 2.06-.94-2.06-.94L8.5 2.5l-.94 2.06-2.06.94zm10 10l.94 2.06.94-2.06 2.06-.94-2.06-.94-.94-2.06-.94 2.06-2.06.94z\"/><path d=\"M17.41 7.96l-1.37-1.37c-.4-.4-.92-.59-1.43-.59-.52 0-1.04.2-1.43.59L10.3 9.45l-7.72 7.72c-.78.78-.78 2.05 0 2.83L4 21.41c.39.39.9.59 1.41.59.51 0 1.02-.2 1.41-.59l7.78-7.78 2.81-2.81c.8-.78.8-2.07 0-2.86zM5.41 20L4 18.59l7.72-7.72 1.47 1.35L5.41 20z\"/>\n",
              "  </svg>\n",
              "      </button>\n",
              "\n",
              "\n",
              "\n",
              "    <div id=\"df-40f61d55-e338-4deb-ad79-398eb5532d23\">\n",
              "      <button class=\"colab-df-quickchart\" onclick=\"quickchart('df-40f61d55-e338-4deb-ad79-398eb5532d23')\"\n",
              "              title=\"Suggest charts.\"\n",
              "              style=\"display:none;\">\n",
              "\n",
              "<svg xmlns=\"http://www.w3.org/2000/svg\" height=\"24px\"viewBox=\"0 0 24 24\"\n",
              "     width=\"24px\">\n",
              "    <g>\n",
              "        <path d=\"M19 3H5c-1.1 0-2 .9-2 2v14c0 1.1.9 2 2 2h14c1.1 0 2-.9 2-2V5c0-1.1-.9-2-2-2zM9 17H7v-7h2v7zm4 0h-2V7h2v10zm4 0h-2v-4h2v4z\"/>\n",
              "    </g>\n",
              "</svg>\n",
              "      </button>\n",
              "    </div>\n",
              "\n",
              "<style>\n",
              "  .colab-df-quickchart {\n",
              "    background-color: #E8F0FE;\n",
              "    border: none;\n",
              "    border-radius: 50%;\n",
              "    cursor: pointer;\n",
              "    display: none;\n",
              "    fill: #1967D2;\n",
              "    height: 32px;\n",
              "    padding: 0 0 0 0;\n",
              "    width: 32px;\n",
              "  }\n",
              "\n",
              "  .colab-df-quickchart:hover {\n",
              "    background-color: #E2EBFA;\n",
              "    box-shadow: 0px 1px 2px rgba(60, 64, 67, 0.3), 0px 1px 3px 1px rgba(60, 64, 67, 0.15);\n",
              "    fill: #174EA6;\n",
              "  }\n",
              "\n",
              "  [theme=dark] .colab-df-quickchart {\n",
              "    background-color: #3B4455;\n",
              "    fill: #D2E3FC;\n",
              "  }\n",
              "\n",
              "  [theme=dark] .colab-df-quickchart:hover {\n",
              "    background-color: #434B5C;\n",
              "    box-shadow: 0px 1px 3px 1px rgba(0, 0, 0, 0.15);\n",
              "    filter: drop-shadow(0px 1px 2px rgba(0, 0, 0, 0.3));\n",
              "    fill: #FFFFFF;\n",
              "  }\n",
              "</style>\n",
              "\n",
              "    <script>\n",
              "      async function quickchart(key) {\n",
              "        const containerElement = document.querySelector('#' + key);\n",
              "        const charts = await google.colab.kernel.invokeFunction(\n",
              "            'suggestCharts', [key], {});\n",
              "      }\n",
              "    </script>\n",
              "\n",
              "      <script>\n",
              "\n",
              "function displayQuickchartButton(domScope) {\n",
              "  let quickchartButtonEl =\n",
              "    domScope.querySelector('#df-40f61d55-e338-4deb-ad79-398eb5532d23 button.colab-df-quickchart');\n",
              "  quickchartButtonEl.style.display =\n",
              "    google.colab.kernel.accessAllowed ? 'block' : 'none';\n",
              "}\n",
              "\n",
              "        displayQuickchartButton(document);\n",
              "      </script>\n",
              "      <style>\n",
              "    .colab-df-container {\n",
              "      display:flex;\n",
              "      flex-wrap:wrap;\n",
              "      gap: 12px;\n",
              "    }\n",
              "\n",
              "    .colab-df-convert {\n",
              "      background-color: #E8F0FE;\n",
              "      border: none;\n",
              "      border-radius: 50%;\n",
              "      cursor: pointer;\n",
              "      display: none;\n",
              "      fill: #1967D2;\n",
              "      height: 32px;\n",
              "      padding: 0 0 0 0;\n",
              "      width: 32px;\n",
              "    }\n",
              "\n",
              "    .colab-df-convert:hover {\n",
              "      background-color: #E2EBFA;\n",
              "      box-shadow: 0px 1px 2px rgba(60, 64, 67, 0.3), 0px 1px 3px 1px rgba(60, 64, 67, 0.15);\n",
              "      fill: #174EA6;\n",
              "    }\n",
              "\n",
              "    [theme=dark] .colab-df-convert {\n",
              "      background-color: #3B4455;\n",
              "      fill: #D2E3FC;\n",
              "    }\n",
              "\n",
              "    [theme=dark] .colab-df-convert:hover {\n",
              "      background-color: #434B5C;\n",
              "      box-shadow: 0px 1px 3px 1px rgba(0, 0, 0, 0.15);\n",
              "      filter: drop-shadow(0px 1px 2px rgba(0, 0, 0, 0.3));\n",
              "      fill: #FFFFFF;\n",
              "    }\n",
              "  </style>\n",
              "\n",
              "      <script>\n",
              "        const buttonEl =\n",
              "          document.querySelector('#df-4c30da76-6f9d-46a3-b493-90264b13667e button.colab-df-convert');\n",
              "        buttonEl.style.display =\n",
              "          google.colab.kernel.accessAllowed ? 'block' : 'none';\n",
              "\n",
              "        async function convertToInteractive(key) {\n",
              "          const element = document.querySelector('#df-4c30da76-6f9d-46a3-b493-90264b13667e');\n",
              "          const dataTable =\n",
              "            await google.colab.kernel.invokeFunction('convertToInteractive',\n",
              "                                                     [key], {});\n",
              "          if (!dataTable) return;\n",
              "\n",
              "          const docLinkHtml = 'Like what you see? Visit the ' +\n",
              "            '<a target=\"_blank\" href=https://colab.research.google.com/notebooks/data_table.ipynb>data table notebook</a>'\n",
              "            + ' to learn more about interactive tables.';\n",
              "          element.innerHTML = '';\n",
              "          dataTable['output_type'] = 'display_data';\n",
              "          await google.colab.output.renderOutput(dataTable, element);\n",
              "          const docLink = document.createElement('div');\n",
              "          docLink.innerHTML = docLinkHtml;\n",
              "          element.appendChild(docLink);\n",
              "        }\n",
              "      </script>\n",
              "    </div>\n",
              "  </div>\n"
            ]
          },
          "metadata": {},
          "execution_count": 5
        }
      ]
    },
    {
      "cell_type": "markdown",
      "source": [
        "2. Определение количества пустых ячеек."
      ],
      "metadata": {
        "id": "a92huCVaPFXJ"
      }
    },
    {
      "cell_type": "code",
      "source": [
        "TitanicDB.isnull().sum()"
      ],
      "metadata": {
        "colab": {
          "base_uri": "https://localhost:8080/"
        },
        "id": "aXPG_zXkl4Wy",
        "outputId": "4e130d73-7439-4985-9343-d96490ab24ff"
      },
      "execution_count": null,
      "outputs": [
        {
          "output_type": "execute_result",
          "data": {
            "text/plain": [
              "PassengerId      0\n",
              "Survived         0\n",
              "Pclass           0\n",
              "Name             0\n",
              "Sex              0\n",
              "Age            177\n",
              "SibSp            0\n",
              "Parch            0\n",
              "Ticket           0\n",
              "Fare             0\n",
              "Cabin          687\n",
              "Embarked         2\n",
              "dtype: int64"
            ]
          },
          "metadata": {},
          "execution_count": 6
        }
      ]
    },
    {
      "cell_type": "code",
      "source": [
        "TitanicDB.isnull().sum().sum()"
      ],
      "metadata": {
        "colab": {
          "base_uri": "https://localhost:8080/"
        },
        "id": "LAb59bJiqsYs",
        "outputId": "4a4c00cf-c891-4667-bdf8-cdf5334ba448"
      },
      "execution_count": null,
      "outputs": [
        {
          "output_type": "execute_result",
          "data": {
            "text/plain": [
              "866"
            ]
          },
          "metadata": {},
          "execution_count": 7
        }
      ]
    },
    {
      "cell_type": "code",
      "source": [
        "# NoNull=TitanicDB.dropna()\n",
        "# NoNull"
      ],
      "metadata": {
        "id": "s91MbzlwplqB"
      },
      "execution_count": null,
      "outputs": []
    },
    {
      "cell_type": "code",
      "source": [
        "TitanicDB.dtypes #Для сведения проверяем типы данных в нашем датафрейме"
      ],
      "metadata": {
        "id": "uci46hEnwtin",
        "colab": {
          "base_uri": "https://localhost:8080/"
        },
        "outputId": "09d14b18-a2c8-4c95-a8b5-939e423a2731"
      },
      "execution_count": null,
      "outputs": [
        {
          "output_type": "execute_result",
          "data": {
            "text/plain": [
              "PassengerId      int64\n",
              "Survived         int64\n",
              "Pclass           int64\n",
              "Name            object\n",
              "Sex             object\n",
              "Age            float64\n",
              "SibSp            int64\n",
              "Parch            int64\n",
              "Ticket          object\n",
              "Fare           float64\n",
              "Cabin           object\n",
              "Embarked        object\n",
              "dtype: object"
            ]
          },
          "metadata": {},
          "execution_count": 8
        }
      ]
    },
    {
      "cell_type": "markdown",
      "source": [
        "3. Заполнение пустых ячеек.\n",
        "Для столбца с возрастом Age выбрана замена на среднее значение, для ячеек столбцов номера каюты Cabin и порта посадки Embarked выбрана замена на значение строки 'Null', что бы в дальнейшем при необходимости было видно, где необходимо доработать датафрейм."
      ],
      "metadata": {
        "id": "nSJWRcUaPi1C"
      }
    },
    {
      "cell_type": "code",
      "source": [
        "TitanicDB = TitanicDB.fillna({'Age': TitanicDB['Age'].mean(), 'Cabin':'Null',\n",
        "                 'Embarked':'Null'})\n",
        "TitanicDB.isnull().sum()"
      ],
      "metadata": {
        "colab": {
          "base_uri": "https://localhost:8080/"
        },
        "id": "9GUilUJu0eFW",
        "outputId": "4010a89f-e49a-4566-b620-520cc7570988"
      },
      "execution_count": null,
      "outputs": [
        {
          "output_type": "execute_result",
          "data": {
            "text/plain": [
              "PassengerId    0\n",
              "Survived       0\n",
              "Pclass         0\n",
              "Name           0\n",
              "Sex            0\n",
              "Age            0\n",
              "SibSp          0\n",
              "Parch          0\n",
              "Ticket         0\n",
              "Fare           0\n",
              "Cabin          0\n",
              "Embarked       0\n",
              "dtype: int64"
            ]
          },
          "metadata": {},
          "execution_count": 158
        }
      ]
    },
    {
      "cell_type": "markdown",
      "source": [
        "4. Находим количество уникальных значений для каждого столбца."
      ],
      "metadata": {
        "id": "mfBONqjUQP96"
      }
    },
    {
      "cell_type": "code",
      "source": [
        "number_unique = TitanicDB.nunique()\n",
        "number_unique"
      ],
      "metadata": {
        "colab": {
          "base_uri": "https://localhost:8080/"
        },
        "id": "mn6B5vH93j0f",
        "outputId": "8c533579-fa5a-4f28-8ac6-123349509e4b"
      },
      "execution_count": null,
      "outputs": [
        {
          "output_type": "execute_result",
          "data": {
            "text/plain": [
              "PassengerId    891\n",
              "Survived         2\n",
              "Pclass           3\n",
              "Name           891\n",
              "Sex              2\n",
              "Age             89\n",
              "SibSp            7\n",
              "Parch            7\n",
              "Ticket         681\n",
              "Fare           248\n",
              "Cabin          148\n",
              "Embarked         4\n",
              "dtype: int64"
            ]
          },
          "metadata": {},
          "execution_count": 159
        }
      ]
    },
    {
      "cell_type": "markdown",
      "source": [
        "5. Находим количество минимальное значение (только для цифровых значений) для каждого столбца."
      ],
      "metadata": {
        "id": "Z2W066ykQZNc"
      }
    },
    {
      "cell_type": "code",
      "source": [
        "min_value = TitanicDB.min(numeric_only=True)\n",
        "min_value"
      ],
      "metadata": {
        "colab": {
          "base_uri": "https://localhost:8080/"
        },
        "id": "bmqFy-Tb5HXq",
        "outputId": "5942adff-ba84-44de-8d88-f6f8efe591d9"
      },
      "execution_count": null,
      "outputs": [
        {
          "output_type": "execute_result",
          "data": {
            "text/plain": [
              "PassengerId    1.00\n",
              "Survived       0.00\n",
              "Pclass         1.00\n",
              "Age            0.42\n",
              "SibSp          0.00\n",
              "Parch          0.00\n",
              "Fare           0.00\n",
              "dtype: float64"
            ]
          },
          "metadata": {},
          "execution_count": 160
        }
      ]
    },
    {
      "cell_type": "markdown",
      "source": [
        "6. Находим количество максимальное значение (только для цифровых значений) для каждого столбца."
      ],
      "metadata": {
        "id": "O2_Tv_EJQi_M"
      }
    },
    {
      "cell_type": "code",
      "source": [
        "max_value = TitanicDB.max(numeric_only=True)\n",
        "max_value"
      ],
      "metadata": {
        "colab": {
          "base_uri": "https://localhost:8080/"
        },
        "id": "JzfkJXLG7Yms",
        "outputId": "e44ab503-1587-4287-dd72-da6ac6418dd6"
      },
      "execution_count": null,
      "outputs": [
        {
          "output_type": "execute_result",
          "data": {
            "text/plain": [
              "PassengerId    891.0000\n",
              "Survived         1.0000\n",
              "Pclass           3.0000\n",
              "Age             80.0000\n",
              "SibSp            8.0000\n",
              "Parch            6.0000\n",
              "Fare           512.3292\n",
              "dtype: float64"
            ]
          },
          "metadata": {},
          "execution_count": 161
        }
      ]
    },
    {
      "cell_type": "markdown",
      "source": [
        "7. Для наглядности построим графики зависимости признаков датафрейма.\n",
        "\n",
        "Постараемся рассмотреть варианты, отличающиеся от ДЗ №5."
      ],
      "metadata": {
        "id": "kvzGx264Sqpo"
      }
    },
    {
      "cell_type": "markdown",
      "source": [
        "7.1 Влияние возраста на количество выживщих.\n",
        "\n",
        "Для начала определим количество (повторно) уникальных значений, что бы в дальнейшем организовать ось Х."
      ],
      "metadata": {
        "id": "gFqJGWp3owA_"
      }
    },
    {
      "cell_type": "code",
      "source": [
        "age = pd.Series(sorted(TitanicDB['Age'].unique()))\n",
        "age"
      ],
      "metadata": {
        "colab": {
          "base_uri": "https://localhost:8080/"
        },
        "id": "dTFpyvLSdPtt",
        "outputId": "5125a7c7-5c20-491e-fbe7-6a2b9bbd3c60"
      },
      "execution_count": null,
      "outputs": [
        {
          "output_type": "execute_result",
          "data": {
            "text/plain": [
              "0      0.42\n",
              "1      0.67\n",
              "2      0.75\n",
              "3      0.83\n",
              "4      0.92\n",
              "      ...  \n",
              "84    70.00\n",
              "85    70.50\n",
              "86    71.00\n",
              "87    74.00\n",
              "88    80.00\n",
              "Length: 89, dtype: float64"
            ]
          },
          "metadata": {},
          "execution_count": 162
        }
      ]
    },
    {
      "cell_type": "markdown",
      "source": [
        "Строим график с распределением возрастов на интервалы по 10 лет."
      ],
      "metadata": {
        "id": "rK7IUptgKk1J"
      }
    },
    {
      "cell_type": "code",
      "source": [
        "countplt, ax = plt.subplots(figsize = (15,7))\n",
        "bins_num = [0, 10, 20, 30, 40, 50, 60, 70, 80]\n",
        "TitanicDB['AgeGroup'] = pd.cut(TitanicDB['Age'], bins=bins_num)\n",
        "ax = sns.countplot(x='AgeGroup', hue='Survived',  data=TitanicDB, palette='pastel')\n",
        "ax.set_title('Зависимость выживших от возраста',fontsize = 18)\n",
        "ax.legend(labels = ['Не поместился на плотике', 'Заняла весь плотик'], title = ('Состояние'))\n",
        "ax.set_xlabel('Возраст, лет', fontsize = 12)\n",
        "ax.set_ylabel('Количество', fontsize = 12)\n",
        "ax"
      ],
      "metadata": {
        "colab": {
          "base_uri": "https://localhost:8080/",
          "height": 668
        },
        "id": "YcixTMucGK-8",
        "outputId": "ebfb396d-1d7f-464f-8790-ad402aba9501"
      },
      "execution_count": null,
      "outputs": [
        {
          "output_type": "execute_result",
          "data": {
            "text/plain": [
              "<Axes: title={'center': 'Зависимость выживших от возраста'}, xlabel='Возраст, лет', ylabel='Количество'>"
            ]
          },
          "metadata": {},
          "execution_count": 169
        },
        {
          "output_type": "display_data",
          "data": {
            "text/plain": [
              "<Figure size 1500x700 with 1 Axes>"
            ],
            "image/png": "[encoded data removed]"
          },
          "metadata": {}
        }
      ]
    },
    {
      "cell_type": "markdown",
      "source": [
        "7.2 Зависимость цены билета от пола.\n",
        "\n",
        "Для начала определим количество (повторно) уникальных значений, что бы в дальнейшем организовать ось Х."
      ],
      "metadata": {
        "id": "JgVhDIKlu9LN"
      }
    },
    {
      "cell_type": "code",
      "source": [
        "fare = pd.Series(sorted(TitanicDB['Fare'].unique()))\n",
        "fare"
      ],
      "metadata": {
        "colab": {
          "base_uri": "https://localhost:8080/"
        },
        "id": "OaBvjvCBxM4o",
        "outputId": "91abf83d-b3a4-4892-cf7a-3edf9fd07eea"
      },
      "execution_count": null,
      "outputs": [
        {
          "output_type": "execute_result",
          "data": {
            "text/plain": [
              "0        0.0000\n",
              "1        4.0125\n",
              "2        5.0000\n",
              "3        6.2375\n",
              "4        6.4375\n",
              "         ...   \n",
              "243    227.5250\n",
              "244    247.5208\n",
              "245    262.3750\n",
              "246    263.0000\n",
              "247    512.3292\n",
              "Length: 248, dtype: float64"
            ]
          },
          "metadata": {},
          "execution_count": 175
        }
      ]
    },
    {
      "cell_type": "markdown",
      "source": [
        "Строим график с распределением возрастов на интервалы по 10 лет."
      ],
      "metadata": {
        "id": "hbRftzmGxR6o"
      }
    },
    {
      "cell_type": "code",
      "source": [
        "countplt, ax = plt.subplots(figsize = (20,7))\n",
        "ax = sns.histplot(data=TitanicDB, x='Fare', hue='Sex', bins = 5, palette='colorblind')\n",
        "ax.set_title('Зависимость цены купленного билета от пола',fontsize = 18)\n",
        "ax.legend(labels = ['Женщина', 'Мужчина'], title = ('Пол'))\n",
        "ax.set_xlabel('Цена билета', fontsize = 12)\n",
        "ax.set_ylabel('Количество', fontsize = 12)"
      ],
      "metadata": {
        "colab": {
          "base_uri": "https://localhost:8080/",
          "height": 669
        },
        "id": "0e8bUPMZSKIv",
        "outputId": "f7590738-5502-4ec9-bfe3-9946c33a2c79"
      },
      "execution_count": null,
      "outputs": [
        {
          "output_type": "execute_result",
          "data": {
            "text/plain": [
              "Text(0, 0.5, 'Количество')"
            ]
          },
          "metadata": {},
          "execution_count": 174
        },
        {
          "output_type": "display_data",
          "data": {
            "text/plain": [
              "<Figure size 2000x700 with 1 Axes>"
            ],
            "image/png": "[encoded data removed]"
          },
          "metadata": {}
        }
      ]
    },
    {
      "cell_type": "markdown",
      "source": [
        "Среди покупателей самых дешевых билетов преобладают мужчин, но в средней ценовой категории среди покупателей преобладают женщины.\n",
        "\n",
        "С учетом итогов ДЗ №5 можно сделать гипотезу, что среди выживших преобладают женщины (цена билета больше всего влияла на выживаемость). Проверим в п. 7.3."
      ],
      "metadata": {
        "id": "BWtYZB0XpU_2"
      }
    },
    {
      "cell_type": "markdown",
      "source": [
        "7.3 Зависимость выживания от пола.\n",
        "\n",
        "Для начала обращаем внимание, на то чо выжил или нет пассажир обозначено бинарной системой - 0 - не выжил, 1 - выжил. Необходимо заменить в датафрейме цифры на соответтвующее описание."
      ],
      "metadata": {
        "id": "uqyLo89OGAUg"
      }
    },
    {
      "cell_type": "markdown",
      "source": [
        "Далее построим график"
      ],
      "metadata": {
        "id": "AGXjYPJrGg2S"
      }
    },
    {
      "cell_type": "code",
      "source": [
        "countplt, ax = plt.subplots(figsize = (10,7))\n",
        "SexDF = TitanicDB\n",
        "SexDF['Survived'] = SexDF['Survived']. replace([0, 1], ['Не выжил', 'Выжил'])\n",
        "ax = sns.histplot(data=SexDF, x='Survived', hue='Sex', bins = 5, palette='colorblind')\n",
        "ax.set_title('Зависимость выживания от пола',fontsize = 18)\n",
        "ax.legend(labels = ['Женщина', 'Мужчина'], title = ('Пол'))\n",
        "ax.set_xlabel('Выжившие', fontsize = 12)\n",
        "ax.set_ylabel('Количество', fontsize = 12)\n"
      ],
      "metadata": {
        "colab": {
          "base_uri": "https://localhost:8080/",
          "height": 668
        },
        "id": "t-EAprHmapqv",
        "outputId": "091b15e1-5d5d-4e37-f58a-6aa02d085630"
      },
      "execution_count": null,
      "outputs": [
        {
          "output_type": "execute_result",
          "data": {
            "text/plain": [
              "Text(0, 0.5, 'Количество')"
            ]
          },
          "metadata": {},
          "execution_count": 18
        },
        {
          "output_type": "display_data",
          "data": {
            "text/plain": [
              "<Figure size 1000x700 with 1 Axes>"
            ],
            "image/png": "[encoded data removed]"
          },
          "metadata": {}
        }
      ]
    },
    {
      "cell_type": "markdown",
      "source": [
        "Из диаграммы видно, что подавляющее большинство погибщих были мужчины, а подавляющее значение выживщих - женщины."
      ],
      "metadata": {
        "id": "97tTcRolTtLu"
      }
    },
    {
      "cell_type": "markdown",
      "source": [
        "7.4 Для прмера создадим график типа Violin для зависимости количества родителей/детей от пола."
      ],
      "metadata": {
        "id": "E7iyUWkDm77x"
      }
    },
    {
      "cell_type": "code",
      "source": [
        "countplt, ax = plt.subplots(figsize = (10,7))\n",
        "sns.violinplot(x='Parch', y='Sex', data=TitanicDB)"
      ],
      "metadata": {
        "colab": {
          "base_uri": "https://localhost:8080/",
          "height": 637
        },
        "id": "MpF24vjPgmkp",
        "outputId": "4d38b9aa-bb02-4892-ce3f-a4e0ea12d64c"
      },
      "execution_count": null,
      "outputs": [
        {
          "output_type": "execute_result",
          "data": {
            "text/plain": [
              "<Axes: xlabel='Parch', ylabel='Sex'>"
            ]
          },
          "metadata": {},
          "execution_count": 20
        },
        {
          "output_type": "display_data",
          "data": {
            "text/plain": [
              "<Figure size 1000x700 with 1 Axes>"
            ],
            "image/png": "[encoded data removed]"
          },
          "metadata": {}
        }
      ]
    },
    {
      "cell_type": "markdown",
      "source": [
        "Из графика можно сделать вывод, что  с детьми/родителями  в основном путешествовали женщины."
      ],
      "metadata": {
        "id": "3MoA88C-r3hz"
      }
    }
  ]
}