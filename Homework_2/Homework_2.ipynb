{
  "nbformat": 4,
  "nbformat_minor": 0,
  "metadata": {
    "colab": {
      "provenance": []
    },
    "kernelspec": {
      "name": "python3",
      "display_name": "Python 3"
    },
    "language_info": {
      "name": "python"
    }
  },
  "cells": [
    {
      "cell_type": "markdown",
      "source": [
        "**Задача 1.** Подготовка к проведению A/B тестирования гипотезы.\n",
        "\n",
        "Данные: Дана база данных со Spotify по группе Metallica.\n",
        "\n",
        "Гипотеза: Новая версия ремастинга альбома Metallica (Black album) от 2021 г станет популярнее ремастеринга от 2008 г на 10%.\n",
        "\n"
      ],
      "metadata": {
        "id": "i5qaz2dX_4kj"
      }
    },
    {
      "cell_type": "markdown",
      "source": [
        "**Вариант решения 1**. Сравнение средних значений."
      ],
      "metadata": {
        "id": "pDuSegyOdPcv"
      }
    },
    {
      "cell_type": "code",
      "source": [
        "import pandas as pd\n",
        "import numpy as np\n",
        "import io\n",
        "from google.colab import files\n",
        "import os\n",
        "from scipy import stats as stats\n",
        "from IPython.display import display\n",
        "import matplotlib as mpl\n",
        "import matplotlib.pyplot as plt"
      ],
      "metadata": {
        "id": "IvTiCymIya_w"
      },
      "execution_count": null,
      "outputs": []
    },
    {
      "cell_type": "markdown",
      "source": [
        "Загружаем базу данных альбома Metallica (Black Album) группы Metallica с ремастерингом 2008 года"
      ],
      "metadata": {
        "id": "pEnTFqGB_5Oz"
      }
    },
    {
      "cell_type": "code",
      "source": [
        "# uploaded = files.upload()\n",
        "\n",
        "\n",
        "# databaseold = pd.read_csv(io.BytesIO(uploaded['Metallica Rem.csv']))\n",
        "# print(databaseold)"
      ],
      "metadata": {
        "id": "0wd-ESW-AQri"
      },
      "execution_count": null,
      "outputs": []
    },
    {
      "cell_type": "code",
      "source": [
        "url = 'https://drive.google.com/file/d/1ZppTnqcolk_FZEC0ZsO-uFfSwmC1jQVu/view?usp=sharing'\n",
        "path = 'https://drive.google.com/uc?export=download&id=' + url.split('/')[-2]\n",
        "databaseold = pd.read_csv(path)\n",
        "databaseold.head()"
      ],
      "metadata": {
        "colab": {
          "base_uri": "https://localhost:8080/",
          "height": 426
        },
        "id": "m_fS0GC-R9NQ",
        "outputId": "80352dbc-f999-4b43-9819-7e46bd05f13a"
      },
      "execution_count": null,
      "outputs": [
        {
          "output_type": "execute_result",
          "data": {
            "text/plain": [
              "               spotify_id                           spotify_uri  \\\n",
              "0  3VqHuw0wFlIHcIPWkhIbdQ  spotify:track:3VqHuw0wFlIHcIPWkhIbdQ   \n",
              "1  5UaDi8KzCGJqFfVAOBfXhi  spotify:track:5UaDi8KzCGJqFfVAOBfXhi   \n",
              "2  5VJ05rDJ2O4cECGNbWPi64  spotify:track:5VJ05rDJ2O4cECGNbWPi64   \n",
              "3  7lwvxYumAEo10lzAplRGXM  spotify:track:7lwvxYumAEo10lzAplRGXM   \n",
              "4  745sNpjWbAxo2MA2zSYbyD  spotify:track:745sNpjWbAxo2MA2zSYbyD   \n",
              "\n",
              "                    album                              name  popularity  \\\n",
              "0  Metallica (Remastered)        Enter Sandman (Remastered)          78   \n",
              "1  Metallica (Remastered)         Sad But True (Remastered)          69   \n",
              "2  Metallica (Remastered)     Holier Than Thou (Remastered)          55   \n",
              "3  Metallica (Remastered)       The Unforgiven (Remastered)          67   \n",
              "4  Metallica (Remastered)  Wherever I May Roam (Remastered)          67   \n",
              "\n",
              "  release_date  track_number  danceability  energy  key  loudness  mode  \\\n",
              "0   12.08.1991             1         0.566   0.834    6    -8.412     0   \n",
              "1   12.08.1991             2         0.624   0.876    7    -6.005     1   \n",
              "2   12.08.1991             3         0.458   0.970    4    -5.915     0   \n",
              "3   12.08.1991             4         0.531   0.583    7    -9.470     1   \n",
              "4   12.08.1991             5         0.539   0.834    9    -7.459     0   \n",
              "\n",
              "   speechiness  acousticness  instrumentalness  liveness  valence    tempo  \\\n",
              "0       0.0298      0.002770          0.008000    0.0625    0.621  123.296   \n",
              "1       0.0342      0.000926          0.001640    0.0561    0.453   89.240   \n",
              "2       0.0408      0.001780          0.272000    0.0826    0.342  172.123   \n",
              "3       0.0256      0.018400          0.006240    0.2550    0.207  139.503   \n",
              "4       0.0364      0.000646          0.000516    0.1190    0.339  131.383   \n",
              "\n",
              "   duration_ms  time_signature  \n",
              "0       331560               4  \n",
              "1       324600               4  \n",
              "2       227573               4  \n",
              "3       387160               4  \n",
              "4       404333               4  "
            ],
            "text/html": [
              "\n",
              "  <div id=\"df-2e5f170e-40e7-4c7e-bd0d-0c011beb64ab\">\n",
              "    <div class=\"colab-df-container\">\n",
              "      <div>\n",
              "<style scoped>\n",
              "    .dataframe tbody tr th:only-of-type {\n",
              "        vertical-align: middle;\n",
              "    }\n",
              "\n",
              "    .dataframe tbody tr th {\n",
              "        vertical-align: top;\n",
              "    }\n",
              "\n",
              "    .dataframe thead th {\n",
              "        text-align: right;\n",
              "    }\n",
              "</style>\n",
              "<table border=\"1\" class=\"dataframe\">\n",
              "  <thead>\n",
              "    <tr style=\"text-align: right;\">\n",
              "      <th></th>\n",
              "      <th>spotify_id</th>\n",
              "      <th>spotify_uri</th>\n",
              "      <th>album</th>\n",
              "      <th>name</th>\n",
              "      <th>popularity</th>\n",
              "      <th>release_date</th>\n",
              "      <th>track_number</th>\n",
              "      <th>danceability</th>\n",
              "      <th>energy</th>\n",
              "      <th>key</th>\n",
              "      <th>loudness</th>\n",
              "      <th>mode</th>\n",
              "      <th>speechiness</th>\n",
              "      <th>acousticness</th>\n",
              "      <th>instrumentalness</th>\n",
              "      <th>liveness</th>\n",
              "      <th>valence</th>\n",
              "      <th>tempo</th>\n",
              "      <th>duration_ms</th>\n",
              "      <th>time_signature</th>\n",
              "    </tr>\n",
              "  </thead>\n",
              "  <tbody>\n",
              "    <tr>\n",
              "      <th>0</th>\n",
              "      <td>3VqHuw0wFlIHcIPWkhIbdQ</td>\n",
              "      <td>spotify:track:3VqHuw0wFlIHcIPWkhIbdQ</td>\n",
              "      <td>Metallica (Remastered)</td>\n",
              "      <td>Enter Sandman (Remastered)</td>\n",
              "      <td>78</td>\n",
              "      <td>12.08.1991</td>\n",
              "      <td>1</td>\n",
              "      <td>0.566</td>\n",
              "      <td>0.834</td>\n",
              "      <td>6</td>\n",
              "      <td>-8.412</td>\n",
              "      <td>0</td>\n",
              "      <td>0.0298</td>\n",
              "      <td>0.002770</td>\n",
              "      <td>0.008000</td>\n",
              "      <td>0.0625</td>\n",
              "      <td>0.621</td>\n",
              "      <td>123.296</td>\n",
              "      <td>331560</td>\n",
              "      <td>4</td>\n",
              "    </tr>\n",
              "    <tr>\n",
              "      <th>1</th>\n",
              "      <td>5UaDi8KzCGJqFfVAOBfXhi</td>\n",
              "      <td>spotify:track:5UaDi8KzCGJqFfVAOBfXhi</td>\n",
              "      <td>Metallica (Remastered)</td>\n",
              "      <td>Sad But True (Remastered)</td>\n",
              "      <td>69</td>\n",
              "      <td>12.08.1991</td>\n",
              "      <td>2</td>\n",
              "      <td>0.624</td>\n",
              "      <td>0.876</td>\n",
              "      <td>7</td>\n",
              "      <td>-6.005</td>\n",
              "      <td>1</td>\n",
              "      <td>0.0342</td>\n",
              "      <td>0.000926</td>\n",
              "      <td>0.001640</td>\n",
              "      <td>0.0561</td>\n",
              "      <td>0.453</td>\n",
              "      <td>89.240</td>\n",
              "      <td>324600</td>\n",
              "      <td>4</td>\n",
              "    </tr>\n",
              "    <tr>\n",
              "      <th>2</th>\n",
              "      <td>5VJ05rDJ2O4cECGNbWPi64</td>\n",
              "      <td>spotify:track:5VJ05rDJ2O4cECGNbWPi64</td>\n",
              "      <td>Metallica (Remastered)</td>\n",
              "      <td>Holier Than Thou (Remastered)</td>\n",
              "      <td>55</td>\n",
              "      <td>12.08.1991</td>\n",
              "      <td>3</td>\n",
              "      <td>0.458</td>\n",
              "      <td>0.970</td>\n",
              "      <td>4</td>\n",
              "      <td>-5.915</td>\n",
              "      <td>0</td>\n",
              "      <td>0.0408</td>\n",
              "      <td>0.001780</td>\n",
              "      <td>0.272000</td>\n",
              "      <td>0.0826</td>\n",
              "      <td>0.342</td>\n",
              "      <td>172.123</td>\n",
              "      <td>227573</td>\n",
              "      <td>4</td>\n",
              "    </tr>\n",
              "    <tr>\n",
              "      <th>3</th>\n",
              "      <td>7lwvxYumAEo10lzAplRGXM</td>\n",
              "      <td>spotify:track:7lwvxYumAEo10lzAplRGXM</td>\n",
              "      <td>Metallica (Remastered)</td>\n",
              "      <td>The Unforgiven (Remastered)</td>\n",
              "      <td>67</td>\n",
              "      <td>12.08.1991</td>\n",
              "      <td>4</td>\n",
              "      <td>0.531</td>\n",
              "      <td>0.583</td>\n",
              "      <td>7</td>\n",
              "      <td>-9.470</td>\n",
              "      <td>1</td>\n",
              "      <td>0.0256</td>\n",
              "      <td>0.018400</td>\n",
              "      <td>0.006240</td>\n",
              "      <td>0.2550</td>\n",
              "      <td>0.207</td>\n",
              "      <td>139.503</td>\n",
              "      <td>387160</td>\n",
              "      <td>4</td>\n",
              "    </tr>\n",
              "    <tr>\n",
              "      <th>4</th>\n",
              "      <td>745sNpjWbAxo2MA2zSYbyD</td>\n",
              "      <td>spotify:track:745sNpjWbAxo2MA2zSYbyD</td>\n",
              "      <td>Metallica (Remastered)</td>\n",
              "      <td>Wherever I May Roam (Remastered)</td>\n",
              "      <td>67</td>\n",
              "      <td>12.08.1991</td>\n",
              "      <td>5</td>\n",
              "      <td>0.539</td>\n",
              "      <td>0.834</td>\n",
              "      <td>9</td>\n",
              "      <td>-7.459</td>\n",
              "      <td>0</td>\n",
              "      <td>0.0364</td>\n",
              "      <td>0.000646</td>\n",
              "      <td>0.000516</td>\n",
              "      <td>0.1190</td>\n",
              "      <td>0.339</td>\n",
              "      <td>131.383</td>\n",
              "      <td>404333</td>\n",
              "      <td>4</td>\n",
              "    </tr>\n",
              "  </tbody>\n",
              "</table>\n",
              "</div>\n",
              "      <button class=\"colab-df-convert\" onclick=\"convertToInteractive('df-2e5f170e-40e7-4c7e-bd0d-0c011beb64ab')\"\n",
              "              title=\"Convert this dataframe to an interactive table.\"\n",
              "              style=\"display:none;\">\n",
              "        \n",
              "  <svg xmlns=\"http://www.w3.org/2000/svg\" height=\"24px\"viewBox=\"0 0 24 24\"\n",
              "       width=\"24px\">\n",
              "    <path d=\"M0 0h24v24H0V0z\" fill=\"none\"/>\n",
              "    <path d=\"M18.56 5.44l.94 2.06.94-2.06 2.06-.94-2.06-.94-.94-2.06-.94 2.06-2.06.94zm-11 1L8.5 8.5l.94-2.06 2.06-.94-2.06-.94L8.5 2.5l-.94 2.06-2.06.94zm10 10l.94 2.06.94-2.06 2.06-.94-2.06-.94-.94-2.06-.94 2.06-2.06.94z\"/><path d=\"M17.41 7.96l-1.37-1.37c-.4-.4-.92-.59-1.43-.59-.52 0-1.04.2-1.43.59L10.3 9.45l-7.72 7.72c-.78.78-.78 2.05 0 2.83L4 21.41c.39.39.9.59 1.41.59.51 0 1.02-.2 1.41-.59l7.78-7.78 2.81-2.81c.8-.78.8-2.07 0-2.86zM5.41 20L4 18.59l7.72-7.72 1.47 1.35L5.41 20z\"/>\n",
              "  </svg>\n",
              "      </button>\n",
              "      \n",
              "  <style>\n",
              "    .colab-df-container {\n",
              "      display:flex;\n",
              "      flex-wrap:wrap;\n",
              "      gap: 12px;\n",
              "    }\n",
              "\n",
              "    .colab-df-convert {\n",
              "      background-color: #E8F0FE;\n",
              "      border: none;\n",
              "      border-radius: 50%;\n",
              "      cursor: pointer;\n",
              "      display: none;\n",
              "      fill: #1967D2;\n",
              "      height: 32px;\n",
              "      padding: 0 0 0 0;\n",
              "      width: 32px;\n",
              "    }\n",
              "\n",
              "    .colab-df-convert:hover {\n",
              "      background-color: #E2EBFA;\n",
              "      box-shadow: 0px 1px 2px rgba(60, 64, 67, 0.3), 0px 1px 3px 1px rgba(60, 64, 67, 0.15);\n",
              "      fill: #174EA6;\n",
              "    }\n",
              "\n",
              "    [theme=dark] .colab-df-convert {\n",
              "      background-color: #3B4455;\n",
              "      fill: #D2E3FC;\n",
              "    }\n",
              "\n",
              "    [theme=dark] .colab-df-convert:hover {\n",
              "      background-color: #434B5C;\n",
              "      box-shadow: 0px 1px 3px 1px rgba(0, 0, 0, 0.15);\n",
              "      filter: drop-shadow(0px 1px 2px rgba(0, 0, 0, 0.3));\n",
              "      fill: #FFFFFF;\n",
              "    }\n",
              "  </style>\n",
              "\n",
              "      <script>\n",
              "        const buttonEl =\n",
              "          document.querySelector('#df-2e5f170e-40e7-4c7e-bd0d-0c011beb64ab button.colab-df-convert');\n",
              "        buttonEl.style.display =\n",
              "          google.colab.kernel.accessAllowed ? 'block' : 'none';\n",
              "\n",
              "        async function convertToInteractive(key) {\n",
              "          const element = document.querySelector('#df-2e5f170e-40e7-4c7e-bd0d-0c011beb64ab');\n",
              "          const dataTable =\n",
              "            await google.colab.kernel.invokeFunction('convertToInteractive',\n",
              "                                                     [key], {});\n",
              "          if (!dataTable) return;\n",
              "\n",
              "          const docLinkHtml = 'Like what you see? Visit the ' +\n",
              "            '<a target=\"_blank\" href=https://colab.research.google.com/notebooks/data_table.ipynb>data table notebook</a>'\n",
              "            + ' to learn more about interactive tables.';\n",
              "          element.innerHTML = '';\n",
              "          dataTable['output_type'] = 'display_data';\n",
              "          await google.colab.output.renderOutput(dataTable, element);\n",
              "          const docLink = document.createElement('div');\n",
              "          docLink.innerHTML = docLinkHtml;\n",
              "          element.appendChild(docLink);\n",
              "        }\n",
              "      </script>\n",
              "    </div>\n",
              "  </div>\n",
              "  "
            ]
          },
          "metadata": {},
          "execution_count": 4
        }
      ]
    },
    {
      "cell_type": "code",
      "source": [
        "#databaseold.info()"
      ],
      "metadata": {
        "id": "PdAQALToB9r8"
      },
      "execution_count": null,
      "outputs": []
    },
    {
      "cell_type": "markdown",
      "source": [
        "Загружаем базу данных альбома Metallica (Black Album) группы Metallica с ремастерингом 2021 года"
      ],
      "metadata": {
        "id": "CLioH8Ah_jqN"
      }
    },
    {
      "cell_type": "code",
      "source": [
        "# uploaded = files.upload()\n",
        "# databasenew = pd.read_csv(io.BytesIO(uploaded['Metallica Rem 2021.csv']))\n",
        "# print(databasenew)"
      ],
      "metadata": {
        "id": "z91l21Max_eR"
      },
      "execution_count": null,
      "outputs": []
    },
    {
      "cell_type": "code",
      "source": [
        "url = 'https://drive.google.com/file/d/1Wg1uvA8R-jTSSCfBt_OyLc26MKAonYt-/view?usp=sharing'\n",
        "path = 'https://drive.google.com/uc?export=download&id=' + url.split('/')[-2]\n",
        "databasenew = pd.read_csv(path)\n",
        "databasenew.head()"
      ],
      "metadata": {
        "colab": {
          "base_uri": "https://localhost:8080/",
          "height": 531
        },
        "id": "GLqp916sUeWP",
        "outputId": "1a1e212f-49d9-46fa-cd88-cbe3e8726b68"
      },
      "execution_count": null,
      "outputs": [
        {
          "output_type": "execute_result",
          "data": {
            "text/plain": [
              "               spotify_id                           spotify_uri  \\\n",
              "0  2T5q7qhJVN4m2hMSIAsOlC  spotify:track:2T5q7qhJVN4m2hMSIAsOlC   \n",
              "1  6WJFcaTxTP1Z95rLE6lk7s  spotify:track:6WJFcaTxTP1Z95rLE6lk7s   \n",
              "2  6c5Ft6sEfLjVxL2wkgxBtv  spotify:track:6c5Ft6sEfLjVxL2wkgxBtv   \n",
              "3  5lqyqPU3JkpCbUbLmTVQPW  spotify:track:5lqyqPU3JkpCbUbLmTVQPW   \n",
              "4  3quYoE7KgIIaqVXPd7MpX0  spotify:track:3quYoE7KgIIaqVXPd7MpX0   \n",
              "\n",
              "                         album                                   name  \\\n",
              "0  Metallica (Remastered 2021)        Enter Sandman - Remastered 2021   \n",
              "1  Metallica (Remastered 2021)         Sad But True - Remastered 2021   \n",
              "2  Metallica (Remastered 2021)     Holier Than Thou - Remastered 2021   \n",
              "3  Metallica (Remastered 2021)       The Unforgiven - Remastered 2021   \n",
              "4  Metallica (Remastered 2021)  Wherever I May Roam - Remastered 2021   \n",
              "\n",
              "   popularity release_date  track_number  danceability  energy  key  loudness  \\\n",
              "0          48   10.09.2021             1         0.569   0.838    6    -8.421   \n",
              "1          49   10.09.2021             2         0.625   0.876    7    -5.998   \n",
              "2          46   10.09.2021             3         0.458   0.969    5    -5.923   \n",
              "3          48   10.09.2021             4         0.526   0.579    7    -9.489   \n",
              "4          48   10.09.2021             5         0.537   0.831    9    -7.467   \n",
              "\n",
              "   mode  speechiness  acousticness  instrumentalness  liveness  valence  \\\n",
              "0     0       0.0302      0.002600          0.008360    0.0628    0.615   \n",
              "1     1       0.0350      0.000848          0.001980    0.0639    0.460   \n",
              "2     1       0.0412      0.001560          0.255000    0.0841    0.348   \n",
              "3     1       0.0257      0.017900          0.008610    0.2160    0.211   \n",
              "4     0       0.0364      0.000617          0.000571    0.1170    0.351   \n",
              "\n",
              "     tempo  duration_ms  time_signature  \n",
              "0  123.299       331560               4  \n",
              "1   89.233       324600               4  \n",
              "2  172.096       227573               4  \n",
              "3  139.496       387160               4  \n",
              "4  131.384       404333               4  "
            ],
            "text/html": [
              "\n",
              "  <div id=\"df-3521e2d7-4bd1-4282-9872-fb1ae8abafb9\">\n",
              "    <div class=\"colab-df-container\">\n",
              "      <div>\n",
              "<style scoped>\n",
              "    .dataframe tbody tr th:only-of-type {\n",
              "        vertical-align: middle;\n",
              "    }\n",
              "\n",
              "    .dataframe tbody tr th {\n",
              "        vertical-align: top;\n",
              "    }\n",
              "\n",
              "    .dataframe thead th {\n",
              "        text-align: right;\n",
              "    }\n",
              "</style>\n",
              "<table border=\"1\" class=\"dataframe\">\n",
              "  <thead>\n",
              "    <tr style=\"text-align: right;\">\n",
              "      <th></th>\n",
              "      <th>spotify_id</th>\n",
              "      <th>spotify_uri</th>\n",
              "      <th>album</th>\n",
              "      <th>name</th>\n",
              "      <th>popularity</th>\n",
              "      <th>release_date</th>\n",
              "      <th>track_number</th>\n",
              "      <th>danceability</th>\n",
              "      <th>energy</th>\n",
              "      <th>key</th>\n",
              "      <th>loudness</th>\n",
              "      <th>mode</th>\n",
              "      <th>speechiness</th>\n",
              "      <th>acousticness</th>\n",
              "      <th>instrumentalness</th>\n",
              "      <th>liveness</th>\n",
              "      <th>valence</th>\n",
              "      <th>tempo</th>\n",
              "      <th>duration_ms</th>\n",
              "      <th>time_signature</th>\n",
              "    </tr>\n",
              "  </thead>\n",
              "  <tbody>\n",
              "    <tr>\n",
              "      <th>0</th>\n",
              "      <td>2T5q7qhJVN4m2hMSIAsOlC</td>\n",
              "      <td>spotify:track:2T5q7qhJVN4m2hMSIAsOlC</td>\n",
              "      <td>Metallica (Remastered 2021)</td>\n",
              "      <td>Enter Sandman - Remastered 2021</td>\n",
              "      <td>48</td>\n",
              "      <td>10.09.2021</td>\n",
              "      <td>1</td>\n",
              "      <td>0.569</td>\n",
              "      <td>0.838</td>\n",
              "      <td>6</td>\n",
              "      <td>-8.421</td>\n",
              "      <td>0</td>\n",
              "      <td>0.0302</td>\n",
              "      <td>0.002600</td>\n",
              "      <td>0.008360</td>\n",
              "      <td>0.0628</td>\n",
              "      <td>0.615</td>\n",
              "      <td>123.299</td>\n",
              "      <td>331560</td>\n",
              "      <td>4</td>\n",
              "    </tr>\n",
              "    <tr>\n",
              "      <th>1</th>\n",
              "      <td>6WJFcaTxTP1Z95rLE6lk7s</td>\n",
              "      <td>spotify:track:6WJFcaTxTP1Z95rLE6lk7s</td>\n",
              "      <td>Metallica (Remastered 2021)</td>\n",
              "      <td>Sad But True - Remastered 2021</td>\n",
              "      <td>49</td>\n",
              "      <td>10.09.2021</td>\n",
              "      <td>2</td>\n",
              "      <td>0.625</td>\n",
              "      <td>0.876</td>\n",
              "      <td>7</td>\n",
              "      <td>-5.998</td>\n",
              "      <td>1</td>\n",
              "      <td>0.0350</td>\n",
              "      <td>0.000848</td>\n",
              "      <td>0.001980</td>\n",
              "      <td>0.0639</td>\n",
              "      <td>0.460</td>\n",
              "      <td>89.233</td>\n",
              "      <td>324600</td>\n",
              "      <td>4</td>\n",
              "    </tr>\n",
              "    <tr>\n",
              "      <th>2</th>\n",
              "      <td>6c5Ft6sEfLjVxL2wkgxBtv</td>\n",
              "      <td>spotify:track:6c5Ft6sEfLjVxL2wkgxBtv</td>\n",
              "      <td>Metallica (Remastered 2021)</td>\n",
              "      <td>Holier Than Thou - Remastered 2021</td>\n",
              "      <td>46</td>\n",
              "      <td>10.09.2021</td>\n",
              "      <td>3</td>\n",
              "      <td>0.458</td>\n",
              "      <td>0.969</td>\n",
              "      <td>5</td>\n",
              "      <td>-5.923</td>\n",
              "      <td>1</td>\n",
              "      <td>0.0412</td>\n",
              "      <td>0.001560</td>\n",
              "      <td>0.255000</td>\n",
              "      <td>0.0841</td>\n",
              "      <td>0.348</td>\n",
              "      <td>172.096</td>\n",
              "      <td>227573</td>\n",
              "      <td>4</td>\n",
              "    </tr>\n",
              "    <tr>\n",
              "      <th>3</th>\n",
              "      <td>5lqyqPU3JkpCbUbLmTVQPW</td>\n",
              "      <td>spotify:track:5lqyqPU3JkpCbUbLmTVQPW</td>\n",
              "      <td>Metallica (Remastered 2021)</td>\n",
              "      <td>The Unforgiven - Remastered 2021</td>\n",
              "      <td>48</td>\n",
              "      <td>10.09.2021</td>\n",
              "      <td>4</td>\n",
              "      <td>0.526</td>\n",
              "      <td>0.579</td>\n",
              "      <td>7</td>\n",
              "      <td>-9.489</td>\n",
              "      <td>1</td>\n",
              "      <td>0.0257</td>\n",
              "      <td>0.017900</td>\n",
              "      <td>0.008610</td>\n",
              "      <td>0.2160</td>\n",
              "      <td>0.211</td>\n",
              "      <td>139.496</td>\n",
              "      <td>387160</td>\n",
              "      <td>4</td>\n",
              "    </tr>\n",
              "    <tr>\n",
              "      <th>4</th>\n",
              "      <td>3quYoE7KgIIaqVXPd7MpX0</td>\n",
              "      <td>spotify:track:3quYoE7KgIIaqVXPd7MpX0</td>\n",
              "      <td>Metallica (Remastered 2021)</td>\n",
              "      <td>Wherever I May Roam - Remastered 2021</td>\n",
              "      <td>48</td>\n",
              "      <td>10.09.2021</td>\n",
              "      <td>5</td>\n",
              "      <td>0.537</td>\n",
              "      <td>0.831</td>\n",
              "      <td>9</td>\n",
              "      <td>-7.467</td>\n",
              "      <td>0</td>\n",
              "      <td>0.0364</td>\n",
              "      <td>0.000617</td>\n",
              "      <td>0.000571</td>\n",
              "      <td>0.1170</td>\n",
              "      <td>0.351</td>\n",
              "      <td>131.384</td>\n",
              "      <td>404333</td>\n",
              "      <td>4</td>\n",
              "    </tr>\n",
              "  </tbody>\n",
              "</table>\n",
              "</div>\n",
              "      <button class=\"colab-df-convert\" onclick=\"convertToInteractive('df-3521e2d7-4bd1-4282-9872-fb1ae8abafb9')\"\n",
              "              title=\"Convert this dataframe to an interactive table.\"\n",
              "              style=\"display:none;\">\n",
              "        \n",
              "  <svg xmlns=\"http://www.w3.org/2000/svg\" height=\"24px\"viewBox=\"0 0 24 24\"\n",
              "       width=\"24px\">\n",
              "    <path d=\"M0 0h24v24H0V0z\" fill=\"none\"/>\n",
              "    <path d=\"M18.56 5.44l.94 2.06.94-2.06 2.06-.94-2.06-.94-.94-2.06-.94 2.06-2.06.94zm-11 1L8.5 8.5l.94-2.06 2.06-.94-2.06-.94L8.5 2.5l-.94 2.06-2.06.94zm10 10l.94 2.06.94-2.06 2.06-.94-2.06-.94-.94-2.06-.94 2.06-2.06.94z\"/><path d=\"M17.41 7.96l-1.37-1.37c-.4-.4-.92-.59-1.43-.59-.52 0-1.04.2-1.43.59L10.3 9.45l-7.72 7.72c-.78.78-.78 2.05 0 2.83L4 21.41c.39.39.9.59 1.41.59.51 0 1.02-.2 1.41-.59l7.78-7.78 2.81-2.81c.8-.78.8-2.07 0-2.86zM5.41 20L4 18.59l7.72-7.72 1.47 1.35L5.41 20z\"/>\n",
              "  </svg>\n",
              "      </button>\n",
              "      \n",
              "  <style>\n",
              "    .colab-df-container {\n",
              "      display:flex;\n",
              "      flex-wrap:wrap;\n",
              "      gap: 12px;\n",
              "    }\n",
              "\n",
              "    .colab-df-convert {\n",
              "      background-color: #E8F0FE;\n",
              "      border: none;\n",
              "      border-radius: 50%;\n",
              "      cursor: pointer;\n",
              "      display: none;\n",
              "      fill: #1967D2;\n",
              "      height: 32px;\n",
              "      padding: 0 0 0 0;\n",
              "      width: 32px;\n",
              "    }\n",
              "\n",
              "    .colab-df-convert:hover {\n",
              "      background-color: #E2EBFA;\n",
              "      box-shadow: 0px 1px 2px rgba(60, 64, 67, 0.3), 0px 1px 3px 1px rgba(60, 64, 67, 0.15);\n",
              "      fill: #174EA6;\n",
              "    }\n",
              "\n",
              "    [theme=dark] .colab-df-convert {\n",
              "      background-color: #3B4455;\n",
              "      fill: #D2E3FC;\n",
              "    }\n",
              "\n",
              "    [theme=dark] .colab-df-convert:hover {\n",
              "      background-color: #434B5C;\n",
              "      box-shadow: 0px 1px 3px 1px rgba(0, 0, 0, 0.15);\n",
              "      filter: drop-shadow(0px 1px 2px rgba(0, 0, 0, 0.3));\n",
              "      fill: #FFFFFF;\n",
              "    }\n",
              "  </style>\n",
              "\n",
              "      <script>\n",
              "        const buttonEl =\n",
              "          document.querySelector('#df-3521e2d7-4bd1-4282-9872-fb1ae8abafb9 button.colab-df-convert');\n",
              "        buttonEl.style.display =\n",
              "          google.colab.kernel.accessAllowed ? 'block' : 'none';\n",
              "\n",
              "        async function convertToInteractive(key) {\n",
              "          const element = document.querySelector('#df-3521e2d7-4bd1-4282-9872-fb1ae8abafb9');\n",
              "          const dataTable =\n",
              "            await google.colab.kernel.invokeFunction('convertToInteractive',\n",
              "                                                     [key], {});\n",
              "          if (!dataTable) return;\n",
              "\n",
              "          const docLinkHtml = 'Like what you see? Visit the ' +\n",
              "            '<a target=\"_blank\" href=https://colab.research.google.com/notebooks/data_table.ipynb>data table notebook</a>'\n",
              "            + ' to learn more about interactive tables.';\n",
              "          element.innerHTML = '';\n",
              "          dataTable['output_type'] = 'display_data';\n",
              "          await google.colab.output.renderOutput(dataTable, element);\n",
              "          const docLink = document.createElement('div');\n",
              "          docLink.innerHTML = docLinkHtml;\n",
              "          element.appendChild(docLink);\n",
              "        }\n",
              "      </script>\n",
              "    </div>\n",
              "  </div>\n",
              "  "
            ]
          },
          "metadata": {},
          "execution_count": 5
        }
      ]
    },
    {
      "cell_type": "code",
      "source": [
        "#databasenew.info()"
      ],
      "metadata": {
        "id": "ddd4aZ_IyTkZ"
      },
      "execution_count": null,
      "outputs": []
    },
    {
      "cell_type": "markdown",
      "source": [
        "Ищем среднее значение популярности  (столбец 'popularity') для ремастеринга 2008 года"
      ],
      "metadata": {
        "id": "x-VMbut6IddS"
      }
    },
    {
      "cell_type": "code",
      "source": [
        "MidOld = float(databaseold[['popularity']].mean())\n",
        "MidOld"
      ],
      "metadata": {
        "colab": {
          "base_uri": "https://localhost:8080/"
        },
        "id": "RjD5-vJDyn2C",
        "outputId": "156c02bf-c8f5-4003-91c3-942012d859e2"
      },
      "execution_count": null,
      "outputs": [
        {
          "output_type": "execute_result",
          "data": {
            "text/plain": [
              "60.916666666666664"
            ]
          },
          "metadata": {},
          "execution_count": 6
        }
      ]
    },
    {
      "cell_type": "markdown",
      "source": [
        "Принимаем доверительный интервал 5%"
      ],
      "metadata": {
        "id": "YoenqpiYI2N3"
      }
    },
    {
      "cell_type": "code",
      "source": [
        "DInt = round(MidOld*(5/100), 5)\n",
        "DInt"
      ],
      "metadata": {
        "colab": {
          "base_uri": "https://localhost:8080/"
        },
        "id": "IealrgmJ70yM",
        "outputId": "3e00711f-fe34-43c9-9e68-9f7c1a0a6326"
      },
      "execution_count": null,
      "outputs": [
        {
          "output_type": "execute_result",
          "data": {
            "text/plain": [
              "3.04583"
            ]
          },
          "metadata": {},
          "execution_count": 7
        }
      ]
    },
    {
      "cell_type": "markdown",
      "source": [
        "Ищем среднее значение популярности  (столбец 'popularity') для ремастеринга 2021 года"
      ],
      "metadata": {
        "id": "4_NduDNaJKyJ"
      }
    },
    {
      "cell_type": "code",
      "source": [
        "MidNew = float(databasenew[['popularity']].mean())\n",
        "MidNew"
      ],
      "metadata": {
        "colab": {
          "base_uri": "https://localhost:8080/"
        },
        "id": "MD70dNoG6wTB",
        "outputId": "dcb90084-f6e2-4944-c661-342c7affb9ca"
      },
      "execution_count": null,
      "outputs": [
        {
          "output_type": "execute_result",
          "data": {
            "text/plain": [
              "45.333333333333336"
            ]
          },
          "metadata": {},
          "execution_count": 8
        }
      ]
    },
    {
      "cell_type": "markdown",
      "source": [
        "Проверяем гипотезу:"
      ],
      "metadata": {
        "id": "cb64WoCXJNph"
      }
    },
    {
      "cell_type": "code",
      "source": [
        "hypothesis = round((MidOld*1.1 - MidNew), 4)\n",
        "hypothesis"
      ],
      "metadata": {
        "colab": {
          "base_uri": "https://localhost:8080/"
        },
        "id": "IToeOZ_365LW",
        "outputId": "3a3cbb11-e5be-4c2e-e9d3-7639569acf7f"
      },
      "execution_count": null,
      "outputs": [
        {
          "output_type": "execute_result",
          "data": {
            "text/plain": [
              "21.675"
            ]
          },
          "metadata": {},
          "execution_count": 9
        }
      ]
    },
    {
      "cell_type": "markdown",
      "source": [
        "**Вывод:** Из вычислений видно, что полученное значение не укладывается в доверительный интервал, соответственно, гипотеза не подтверждена."
      ],
      "metadata": {
        "id": "cz8eVCqnJVJn"
      }
    },
    {
      "cell_type": "markdown",
      "source": [
        "\n",
        "\n",
        "**Варинт 2**. Подтверждение гипотезы с использованием критерия Стьюдента"
      ],
      "metadata": {
        "id": "Q46uRfY9axyU"
      }
    },
    {
      "cell_type": "code",
      "source": [
        "popularityOld = databaseold[['popularity']]*1.1\n",
        "popularityOld"
      ],
      "metadata": {
        "colab": {
          "base_uri": "https://localhost:8080/",
          "height": 426
        },
        "id": "DoVa3Lk0Q4_w",
        "outputId": "ec19211c-99cc-4c0e-ff14-ec1930377393"
      },
      "execution_count": null,
      "outputs": [
        {
          "output_type": "execute_result",
          "data": {
            "text/plain": [
              "    popularity\n",
              "0         85.8\n",
              "1         75.9\n",
              "2         60.5\n",
              "3         73.7\n",
              "4         73.7\n",
              "5         64.9\n",
              "6         59.4\n",
              "7         79.2\n",
              "8         60.5\n",
              "9         58.3\n",
              "10        58.3\n",
              "11        53.9"
            ],
            "text/html": [
              "\n",
              "  <div id=\"df-2c4d5444-694d-42cc-a567-9dcbde25fe03\">\n",
              "    <div class=\"colab-df-container\">\n",
              "      <div>\n",
              "<style scoped>\n",
              "    .dataframe tbody tr th:only-of-type {\n",
              "        vertical-align: middle;\n",
              "    }\n",
              "\n",
              "    .dataframe tbody tr th {\n",
              "        vertical-align: top;\n",
              "    }\n",
              "\n",
              "    .dataframe thead th {\n",
              "        text-align: right;\n",
              "    }\n",
              "</style>\n",
              "<table border=\"1\" class=\"dataframe\">\n",
              "  <thead>\n",
              "    <tr style=\"text-align: right;\">\n",
              "      <th></th>\n",
              "      <th>popularity</th>\n",
              "    </tr>\n",
              "  </thead>\n",
              "  <tbody>\n",
              "    <tr>\n",
              "      <th>0</th>\n",
              "      <td>85.8</td>\n",
              "    </tr>\n",
              "    <tr>\n",
              "      <th>1</th>\n",
              "      <td>75.9</td>\n",
              "    </tr>\n",
              "    <tr>\n",
              "      <th>2</th>\n",
              "      <td>60.5</td>\n",
              "    </tr>\n",
              "    <tr>\n",
              "      <th>3</th>\n",
              "      <td>73.7</td>\n",
              "    </tr>\n",
              "    <tr>\n",
              "      <th>4</th>\n",
              "      <td>73.7</td>\n",
              "    </tr>\n",
              "    <tr>\n",
              "      <th>5</th>\n",
              "      <td>64.9</td>\n",
              "    </tr>\n",
              "    <tr>\n",
              "      <th>6</th>\n",
              "      <td>59.4</td>\n",
              "    </tr>\n",
              "    <tr>\n",
              "      <th>7</th>\n",
              "      <td>79.2</td>\n",
              "    </tr>\n",
              "    <tr>\n",
              "      <th>8</th>\n",
              "      <td>60.5</td>\n",
              "    </tr>\n",
              "    <tr>\n",
              "      <th>9</th>\n",
              "      <td>58.3</td>\n",
              "    </tr>\n",
              "    <tr>\n",
              "      <th>10</th>\n",
              "      <td>58.3</td>\n",
              "    </tr>\n",
              "    <tr>\n",
              "      <th>11</th>\n",
              "      <td>53.9</td>\n",
              "    </tr>\n",
              "  </tbody>\n",
              "</table>\n",
              "</div>\n",
              "      <button class=\"colab-df-convert\" onclick=\"convertToInteractive('df-2c4d5444-694d-42cc-a567-9dcbde25fe03')\"\n",
              "              title=\"Convert this dataframe to an interactive table.\"\n",
              "              style=\"display:none;\">\n",
              "        \n",
              "  <svg xmlns=\"http://www.w3.org/2000/svg\" height=\"24px\"viewBox=\"0 0 24 24\"\n",
              "       width=\"24px\">\n",
              "    <path d=\"M0 0h24v24H0V0z\" fill=\"none\"/>\n",
              "    <path d=\"M18.56 5.44l.94 2.06.94-2.06 2.06-.94-2.06-.94-.94-2.06-.94 2.06-2.06.94zm-11 1L8.5 8.5l.94-2.06 2.06-.94-2.06-.94L8.5 2.5l-.94 2.06-2.06.94zm10 10l.94 2.06.94-2.06 2.06-.94-2.06-.94-.94-2.06-.94 2.06-2.06.94z\"/><path d=\"M17.41 7.96l-1.37-1.37c-.4-.4-.92-.59-1.43-.59-.52 0-1.04.2-1.43.59L10.3 9.45l-7.72 7.72c-.78.78-.78 2.05 0 2.83L4 21.41c.39.39.9.59 1.41.59.51 0 1.02-.2 1.41-.59l7.78-7.78 2.81-2.81c.8-.78.8-2.07 0-2.86zM5.41 20L4 18.59l7.72-7.72 1.47 1.35L5.41 20z\"/>\n",
              "  </svg>\n",
              "      </button>\n",
              "      \n",
              "  <style>\n",
              "    .colab-df-container {\n",
              "      display:flex;\n",
              "      flex-wrap:wrap;\n",
              "      gap: 12px;\n",
              "    }\n",
              "\n",
              "    .colab-df-convert {\n",
              "      background-color: #E8F0FE;\n",
              "      border: none;\n",
              "      border-radius: 50%;\n",
              "      cursor: pointer;\n",
              "      display: none;\n",
              "      fill: #1967D2;\n",
              "      height: 32px;\n",
              "      padding: 0 0 0 0;\n",
              "      width: 32px;\n",
              "    }\n",
              "\n",
              "    .colab-df-convert:hover {\n",
              "      background-color: #E2EBFA;\n",
              "      box-shadow: 0px 1px 2px rgba(60, 64, 67, 0.3), 0px 1px 3px 1px rgba(60, 64, 67, 0.15);\n",
              "      fill: #174EA6;\n",
              "    }\n",
              "\n",
              "    [theme=dark] .colab-df-convert {\n",
              "      background-color: #3B4455;\n",
              "      fill: #D2E3FC;\n",
              "    }\n",
              "\n",
              "    [theme=dark] .colab-df-convert:hover {\n",
              "      background-color: #434B5C;\n",
              "      box-shadow: 0px 1px 3px 1px rgba(0, 0, 0, 0.15);\n",
              "      filter: drop-shadow(0px 1px 2px rgba(0, 0, 0, 0.3));\n",
              "      fill: #FFFFFF;\n",
              "    }\n",
              "  </style>\n",
              "\n",
              "      <script>\n",
              "        const buttonEl =\n",
              "          document.querySelector('#df-2c4d5444-694d-42cc-a567-9dcbde25fe03 button.colab-df-convert');\n",
              "        buttonEl.style.display =\n",
              "          google.colab.kernel.accessAllowed ? 'block' : 'none';\n",
              "\n",
              "        async function convertToInteractive(key) {\n",
              "          const element = document.querySelector('#df-2c4d5444-694d-42cc-a567-9dcbde25fe03');\n",
              "          const dataTable =\n",
              "            await google.colab.kernel.invokeFunction('convertToInteractive',\n",
              "                                                     [key], {});\n",
              "          if (!dataTable) return;\n",
              "\n",
              "          const docLinkHtml = 'Like what you see? Visit the ' +\n",
              "            '<a target=\"_blank\" href=https://colab.research.google.com/notebooks/data_table.ipynb>data table notebook</a>'\n",
              "            + ' to learn more about interactive tables.';\n",
              "          element.innerHTML = '';\n",
              "          dataTable['output_type'] = 'display_data';\n",
              "          await google.colab.output.renderOutput(dataTable, element);\n",
              "          const docLink = document.createElement('div');\n",
              "          docLink.innerHTML = docLinkHtml;\n",
              "          element.appendChild(docLink);\n",
              "        }\n",
              "      </script>\n",
              "    </div>\n",
              "  </div>\n",
              "  "
            ]
          },
          "metadata": {},
          "execution_count": 10
        }
      ]
    },
    {
      "cell_type": "code",
      "source": [
        "popularityNew = databasenew[['popularity']]\n",
        "popularityNew"
      ],
      "metadata": {
        "colab": {
          "base_uri": "https://localhost:8080/",
          "height": 426
        },
        "id": "ZZ49iRB3Rq9S",
        "outputId": "446b77aa-5fcb-44c3-a615-65e79c9e1f9d"
      },
      "execution_count": null,
      "outputs": [
        {
          "output_type": "execute_result",
          "data": {
            "text/plain": [
              "    popularity\n",
              "0           48\n",
              "1           49\n",
              "2           46\n",
              "3           48\n",
              "4           48\n",
              "5           44\n",
              "6           44\n",
              "7           46\n",
              "8           43\n",
              "9           43\n",
              "10          44\n",
              "11          41"
            ],
            "text/html": [
              "\n",
              "  <div id=\"df-be2818a3-444c-44e9-b7a4-9800e8036ada\">\n",
              "    <div class=\"colab-df-container\">\n",
              "      <div>\n",
              "<style scoped>\n",
              "    .dataframe tbody tr th:only-of-type {\n",
              "        vertical-align: middle;\n",
              "    }\n",
              "\n",
              "    .dataframe tbody tr th {\n",
              "        vertical-align: top;\n",
              "    }\n",
              "\n",
              "    .dataframe thead th {\n",
              "        text-align: right;\n",
              "    }\n",
              "</style>\n",
              "<table border=\"1\" class=\"dataframe\">\n",
              "  <thead>\n",
              "    <tr style=\"text-align: right;\">\n",
              "      <th></th>\n",
              "      <th>popularity</th>\n",
              "    </tr>\n",
              "  </thead>\n",
              "  <tbody>\n",
              "    <tr>\n",
              "      <th>0</th>\n",
              "      <td>48</td>\n",
              "    </tr>\n",
              "    <tr>\n",
              "      <th>1</th>\n",
              "      <td>49</td>\n",
              "    </tr>\n",
              "    <tr>\n",
              "      <th>2</th>\n",
              "      <td>46</td>\n",
              "    </tr>\n",
              "    <tr>\n",
              "      <th>3</th>\n",
              "      <td>48</td>\n",
              "    </tr>\n",
              "    <tr>\n",
              "      <th>4</th>\n",
              "      <td>48</td>\n",
              "    </tr>\n",
              "    <tr>\n",
              "      <th>5</th>\n",
              "      <td>44</td>\n",
              "    </tr>\n",
              "    <tr>\n",
              "      <th>6</th>\n",
              "      <td>44</td>\n",
              "    </tr>\n",
              "    <tr>\n",
              "      <th>7</th>\n",
              "      <td>46</td>\n",
              "    </tr>\n",
              "    <tr>\n",
              "      <th>8</th>\n",
              "      <td>43</td>\n",
              "    </tr>\n",
              "    <tr>\n",
              "      <th>9</th>\n",
              "      <td>43</td>\n",
              "    </tr>\n",
              "    <tr>\n",
              "      <th>10</th>\n",
              "      <td>44</td>\n",
              "    </tr>\n",
              "    <tr>\n",
              "      <th>11</th>\n",
              "      <td>41</td>\n",
              "    </tr>\n",
              "  </tbody>\n",
              "</table>\n",
              "</div>\n",
              "      <button class=\"colab-df-convert\" onclick=\"convertToInteractive('df-be2818a3-444c-44e9-b7a4-9800e8036ada')\"\n",
              "              title=\"Convert this dataframe to an interactive table.\"\n",
              "              style=\"display:none;\">\n",
              "        \n",
              "  <svg xmlns=\"http://www.w3.org/2000/svg\" height=\"24px\"viewBox=\"0 0 24 24\"\n",
              "       width=\"24px\">\n",
              "    <path d=\"M0 0h24v24H0V0z\" fill=\"none\"/>\n",
              "    <path d=\"M18.56 5.44l.94 2.06.94-2.06 2.06-.94-2.06-.94-.94-2.06-.94 2.06-2.06.94zm-11 1L8.5 8.5l.94-2.06 2.06-.94-2.06-.94L8.5 2.5l-.94 2.06-2.06.94zm10 10l.94 2.06.94-2.06 2.06-.94-2.06-.94-.94-2.06-.94 2.06-2.06.94z\"/><path d=\"M17.41 7.96l-1.37-1.37c-.4-.4-.92-.59-1.43-.59-.52 0-1.04.2-1.43.59L10.3 9.45l-7.72 7.72c-.78.78-.78 2.05 0 2.83L4 21.41c.39.39.9.59 1.41.59.51 0 1.02-.2 1.41-.59l7.78-7.78 2.81-2.81c.8-.78.8-2.07 0-2.86zM5.41 20L4 18.59l7.72-7.72 1.47 1.35L5.41 20z\"/>\n",
              "  </svg>\n",
              "      </button>\n",
              "      \n",
              "  <style>\n",
              "    .colab-df-container {\n",
              "      display:flex;\n",
              "      flex-wrap:wrap;\n",
              "      gap: 12px;\n",
              "    }\n",
              "\n",
              "    .colab-df-convert {\n",
              "      background-color: #E8F0FE;\n",
              "      border: none;\n",
              "      border-radius: 50%;\n",
              "      cursor: pointer;\n",
              "      display: none;\n",
              "      fill: #1967D2;\n",
              "      height: 32px;\n",
              "      padding: 0 0 0 0;\n",
              "      width: 32px;\n",
              "    }\n",
              "\n",
              "    .colab-df-convert:hover {\n",
              "      background-color: #E2EBFA;\n",
              "      box-shadow: 0px 1px 2px rgba(60, 64, 67, 0.3), 0px 1px 3px 1px rgba(60, 64, 67, 0.15);\n",
              "      fill: #174EA6;\n",
              "    }\n",
              "\n",
              "    [theme=dark] .colab-df-convert {\n",
              "      background-color: #3B4455;\n",
              "      fill: #D2E3FC;\n",
              "    }\n",
              "\n",
              "    [theme=dark] .colab-df-convert:hover {\n",
              "      background-color: #434B5C;\n",
              "      box-shadow: 0px 1px 3px 1px rgba(0, 0, 0, 0.15);\n",
              "      filter: drop-shadow(0px 1px 2px rgba(0, 0, 0, 0.3));\n",
              "      fill: #FFFFFF;\n",
              "    }\n",
              "  </style>\n",
              "\n",
              "      <script>\n",
              "        const buttonEl =\n",
              "          document.querySelector('#df-be2818a3-444c-44e9-b7a4-9800e8036ada button.colab-df-convert');\n",
              "        buttonEl.style.display =\n",
              "          google.colab.kernel.accessAllowed ? 'block' : 'none';\n",
              "\n",
              "        async function convertToInteractive(key) {\n",
              "          const element = document.querySelector('#df-be2818a3-444c-44e9-b7a4-9800e8036ada');\n",
              "          const dataTable =\n",
              "            await google.colab.kernel.invokeFunction('convertToInteractive',\n",
              "                                                     [key], {});\n",
              "          if (!dataTable) return;\n",
              "\n",
              "          const docLinkHtml = 'Like what you see? Visit the ' +\n",
              "            '<a target=\"_blank\" href=https://colab.research.google.com/notebooks/data_table.ipynb>data table notebook</a>'\n",
              "            + ' to learn more about interactive tables.';\n",
              "          element.innerHTML = '';\n",
              "          dataTable['output_type'] = 'display_data';\n",
              "          await google.colab.output.renderOutput(dataTable, element);\n",
              "          const docLink = document.createElement('div');\n",
              "          docLink.innerHTML = docLinkHtml;\n",
              "          element.appendChild(docLink);\n",
              "        }\n",
              "      </script>\n",
              "    </div>\n",
              "  </div>\n",
              "  "
            ]
          },
          "metadata": {},
          "execution_count": 11
        }
      ]
    },
    {
      "cell_type": "code",
      "source": [
        "stats.ttest_ind (a=popularityOld, b=popularityNew)"
      ],
      "metadata": {
        "colab": {
          "base_uri": "https://localhost:8080/"
        },
        "id": "UPApiVmPR2k6",
        "outputId": "24338d79-9270-4c72-ae15-e8fc5335d15f"
      },
      "execution_count": null,
      "outputs": [
        {
          "output_type": "execute_result",
          "data": {
            "text/plain": [
              "Ttest_indResult(statistic=array([7.15430064]), pvalue=array([3.58116029e-07]))"
            ]
          },
          "metadata": {},
          "execution_count": 12
        }
      ]
    },
    {
      "cell_type": "markdown",
      "source": [
        "Поскольку p-значение теста (3.58116029e-07) меньше 0,05, соответственно, гипотеза не подтверждена."
      ],
      "metadata": {
        "id": "pIoEsGFGLjSO"
      }
    },
    {
      "cell_type": "markdown",
      "source": [],
      "metadata": {
        "id": "4SOlceawQ4pH"
      }
    }
  ]
}