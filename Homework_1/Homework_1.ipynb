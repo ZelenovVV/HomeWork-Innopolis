{
  "nbformat": 4,
  "nbformat_minor": 0,
  "metadata": {
    "colab": {
      "provenance": []
    },
    "kernelspec": {
      "name": "python3",
      "display_name": "Python 3"
    },
    "language_info": {
      "name": "python"
    }
  },
  "cells": [
    {
      "cell_type": "markdown",
      "source": [
        "Код перенесен из PyCharm, соответственно кое-где не редактирован."
      ],
      "metadata": {
        "id": "a-alZDVXw8ZQ"
      }
    },
    {
      "cell_type": "markdown",
      "source": [
        "**Задача 1.** Создать ноутбук в GoogleColab.\n",
        "\n",
        "\n",
        "Не используя математические фреймворки решить задачу.\n",
        "\n",
        "\n",
        "Найти A*B, где:"
      ],
      "metadata": {
        "id": "ezncAZhqy0ni"
      }
    },
    {
      "cell_type": "markdown",
      "source": [
        "$$\n",
        "A = \\begin{pmatrix}\n",
        "6 & -8 & 3\n",
        "\\end{pmatrix}\n",
        "$$\n",
        "\n",
        "$$\n",
        "B= \\begin{pmatrix}\n",
        "1\\\\\n",
        "1\\\\\n",
        "4\n",
        "\\end{pmatrix}\n",
        "$$\n"
      ],
      "metadata": {
        "id": "0yDKM0cD1GFW"
      }
    },
    {
      "cell_type": "code",
      "execution_count": 1,
      "metadata": {
        "colab": {
          "base_uri": "https://localhost:8080/"
        },
        "id": "ga81LVQQwWF4",
        "outputId": "644af9ff-cfdc-4486-a6f2-587150b3f017"
      },
      "outputs": [
        {
          "output_type": "stream",
          "name": "stdout",
          "text": [
            "[[10]]\n"
          ]
        }
      ],
      "source": [
        "import numpy as np\n",
        "\n",
        "# Задача 1.\n",
        "# Вариант 1. Самый простой с использованием  библиотеки numpy.\n",
        "# Numpy по факту не является фреймворком, а является библиотекой,\n",
        "# но поскольку он является простейшим вариантом, то будем его использовать как\n",
        "# проверочное решение.\n",
        "\n",
        "A = np.matrix([\n",
        "    [6, -8, 3]\n",
        "])\n",
        "B = np.matrix([\n",
        "    [1], [1], [4]\n",
        "])\n",
        "\n",
        "C = A*B\n",
        "\n",
        "print(C)\n"
      ]
    },
    {
      "cell_type": "code",
      "source": [
        "# Задача 1.\n",
        "# Вариант 2. При наличии только азов Python с использованием  циклов (не смотря\n",
        "#на небольшую матрицу, ищем общий подход к решению матриц,\n",
        "#который будет использован и при решении второй задачи).\n",
        "\n",
        "A=[[6, -8, 3]]\n",
        "B=[[1], [1], [4]]\n",
        "\n",
        "# Приводим матрицы к квадратным путем добавления нулей в недостающие элементы.\n",
        "# Причина: в дальнейшем при использовании циклов при разных размерах матриц\n",
        "#(не равенства по кол-ву столбцов и строк между матрицами) будет ошибка.\n",
        "\n",
        "#Находим условный ранг матрицы\n",
        "\n",
        "rangeAB = max(len(A), len(A[0]), len(B), len(B[0]))\n",
        "\n",
        "\n",
        "# Создаем и заполняем дополнительные матрицы\n",
        "A1 = [[0 for i in range(rangeAB)] for i in range(rangeAB)]\n",
        "B1 = [[0 for j in range(rangeAB)] for j in range(rangeAB)]\n",
        "\n",
        "for i in range(len(A)):\n",
        "    for j in range(len(A[0])):\n",
        "        A1[i][j] = A[i][j]\n",
        "\n",
        "#print(A1)\n",
        "\n",
        "for i in range(len(B)):\n",
        "    for j in range(len(B[0])):\n",
        "        B1[i][j] = B[i][j]\n",
        "\n",
        "#print(B1)\n",
        "\n",
        "#Создаем матрицу с ответом С и промежуточную матрицу С1\n",
        "C = [[0 for j in range(len(B[0]))] for i in range(len(A))]\n",
        "C1 = [[0 for n in range(rangeAB)] for n in range(rangeAB)]\n",
        "\n",
        "#Вписываем в С1 результат перемножения дополненных матриц А1 и В1\n",
        "for i in range(len(A1)):\n",
        "    for j in range(len(B1[0])):\n",
        "        for k in range(len(B1)):\n",
        "            C1[i][j] += A1[i][k] * B1[k][j]\n",
        "#print(C1)\n",
        "\n",
        "#В писываем в С результат С1\n",
        "for i in range(len(A)):\n",
        "    for j in range(len(B[0])):\n",
        "        C[i][j]=C1[i][j]\n",
        "\n",
        "print(C)\n"
      ],
      "metadata": {
        "colab": {
          "base_uri": "https://localhost:8080/"
        },
        "id": "UfeLsNHjw4Oy",
        "outputId": "ec2d8525-8cda-4188-f5a8-36f2881e8c1d"
      },
      "execution_count": 3,
      "outputs": [
        {
          "output_type": "stream",
          "name": "stdout",
          "text": [
            "[[10]]\n"
          ]
        }
      ]
    },
    {
      "cell_type": "code",
      "source": [
        "# Задача 1.\n",
        "# Вариант 3. Транспонирование матрицы с помощью zip().\n",
        "# Решение с учетом поиска по учебным матералам.\n",
        "# Данное решение опять же дублируется для второй задачи.\n",
        "\n",
        "A=[[6, -8, 3]]\n",
        "B=[[1], [1], [4]]\n",
        "\n",
        "# Пользуемся возможносью zip() для транспонирования B и дальнешего суммирования\n",
        "# перемноженных элементов матриц A и B\n",
        "\n",
        "C = [[sum(a * b for a, b in zip(str_A, col_B)) for col_B in zip(*B)] for str_A in A]\n",
        "\n",
        "print(C)"
      ],
      "metadata": {
        "colab": {
          "base_uri": "https://localhost:8080/"
        },
        "id": "_LshPsf1xQtW",
        "outputId": "dc35b09f-3af8-4ba0-d0a9-1f0f722e38fa"
      },
      "execution_count": 2,
      "outputs": [
        {
          "output_type": "stream",
          "name": "stdout",
          "text": [
            "[[10]]\n"
          ]
        }
      ]
    },
    {
      "cell_type": "markdown",
      "source": [
        "Ответ:\n",
        "$$\n",
        "A*B = \\begin{pmatrix}\n",
        "10\n",
        "\\end{pmatrix}\n",
        "$$\n",
        "\n",
        "\n",
        "\n",
        "\n"
      ],
      "metadata": {
        "id": "x8X4a4lw3VZX"
      }
    },
    {
      "cell_type": "markdown",
      "source": [
        "**Задача 2.** Не используя математические фреймворки решить задачу.\n",
        "\n",
        "\n",
        "Найти A*B, где:"
      ],
      "metadata": {
        "id": "btGvwa4d0mJ_"
      }
    },
    {
      "cell_type": "markdown",
      "source": [
        "\n",
        "$$\n",
        "A = \\begin{pmatrix}\n",
        "3 & -7\\\\\n",
        "-10 & 6\\\\\n",
        "0 & 6\\\\\n",
        "-1 & -3\n",
        "\\end{pmatrix}\n",
        "$$\n",
        "\n",
        "\n",
        "\n",
        "$$\n",
        "B = \\begin{pmatrix}\n",
        "-8 & 9\\\\\n",
        "4 & -2\n",
        "\\end{pmatrix}\n",
        "$$"
      ],
      "metadata": {
        "id": "RK8bsLEI2y0z"
      }
    },
    {
      "cell_type": "code",
      "source": [
        "import numpy as np\n",
        "\n",
        "# Задача 2.\n",
        "# Вариант 1. Самый простой с использованием библиотеки numpy.\n",
        "# Будем его использовать как проверочное решение.\n",
        "\n",
        "A = np.matrix([\n",
        "    [-3,-7],[-10,6],[0, -6],[-1,-3]\n",
        "])\n",
        "B = np.matrix([\n",
        "    [-8,9],[4,-2]\n",
        "])\n",
        "\n",
        "C = A*B\n",
        "\n",
        "print(C)"
      ],
      "metadata": {
        "colab": {
          "base_uri": "https://localhost:8080/"
        },
        "id": "9QwhtNb_38R6",
        "outputId": "be913f74-c18d-492b-aef7-ad7ac106a271"
      },
      "execution_count": 4,
      "outputs": [
        {
          "output_type": "stream",
          "name": "stdout",
          "text": [
            "[[  -4  -13]\n",
            " [ 104 -102]\n",
            " [ -24   12]\n",
            " [  -4   -3]]\n"
          ]
        }
      ]
    },
    {
      "cell_type": "code",
      "source": [
        "# Задача 2.\n",
        "# Вариант 2.\n",
        "# Использование циклов.\n",
        "\n",
        "A=[[-3,-7],[-10,6],[0, -6],[-1,-3]]\n",
        "B=[[-8,9],[4,-2]]\n",
        "\n",
        "\n",
        "\n",
        "#Находим условный ранг матрицы\n",
        "\n",
        "rangeAB = max(len(A), len(A[0]), len(B), len(B[0]))\n",
        "\n",
        "# Создаем и заполняем дополнительные матрицы\n",
        "A1 = [[0 for i in range(rangeAB)] for i in range(rangeAB)]\n",
        "B1 = [[0 for j in range(rangeAB)] for j in range(rangeAB)]\n",
        "\n",
        "for i in range(len(A)):\n",
        "    for j in range(len(A[0])):\n",
        "        A1[i][j] = A[i][j]\n",
        "\n",
        "#print(A1)\n",
        "\n",
        "for i in range(len(B)):\n",
        "    for j in range(len(B[0])):\n",
        "        B1[i][j] = B[i][j]\n",
        "\n",
        "#print(B1)\n",
        "\n",
        "#Создаем матрицу с ответом С и промежуточную матрицу С1\n",
        "C = [[0 for j in range(len(B[0]))] for i in range(len(A))]\n",
        "C1 = [[0 for n in range(rangeAB)] for n in range(rangeAB)]\n",
        "\n",
        "#Вписываем в С1 результат перемножения дополненных матриц А1 и В1\n",
        "for i in range(len(A1)):\n",
        "    for j in range(len(B1[0])):\n",
        "        for k in range(len(B1)):\n",
        "            C1[i][j] += A1[i][k] * B1[k][j]\n",
        "#print(C1)\n",
        "#В писываем в С результат С1\n",
        "for i in range(len(A)):\n",
        "    for j in range(len(B[0])):\n",
        "        C[i][j]=C1[i][j]\n",
        "\n",
        "print(C)"
      ],
      "metadata": {
        "colab": {
          "base_uri": "https://localhost:8080/"
        },
        "id": "y5AnXQ5L4RcS",
        "outputId": "e769cc38-bec0-462d-a6f3-f2433f429c53"
      },
      "execution_count": 5,
      "outputs": [
        {
          "output_type": "stream",
          "name": "stdout",
          "text": [
            "[[-4, -13], [104, -102], [-24, 12], [-4, -3]]\n"
          ]
        }
      ]
    },
    {
      "cell_type": "code",
      "source": [
        "# Задача 2.\n",
        "# Вариант 3. С помощью транспонированной матрицы и с помощью zip().\n",
        "\n",
        "A=[[-3,-7],[-10,6],[0, -6],[-1,-3]]\n",
        "B=[[-8,9],[4,-2]]\n",
        "\n",
        "C = [[sum(a * b for a, b in zip(str_A, col_B)) for col_B in zip(*B)] for str_A in A]\n",
        "\n",
        "print(C)"
      ],
      "metadata": {
        "colab": {
          "base_uri": "https://localhost:8080/"
        },
        "id": "Xv2aqRco5BXt",
        "outputId": "03f49b2d-0f8e-4dc6-86ca-f865b0f9b7e4"
      },
      "execution_count": 7,
      "outputs": [
        {
          "output_type": "stream",
          "name": "stdout",
          "text": [
            "[[-4, -13], [104, -102], [-24, 12], [-4, -3]]\n"
          ]
        }
      ]
    },
    {
      "cell_type": "markdown",
      "source": [
        "Ответ:\n",
        "\n",
        "$$\n",
        "A*B = \\begin{pmatrix}\n",
        "-4 & -13\\\\\n",
        "104 & -102\\\\\n",
        "-24 & 12\\\\\n",
        "-4 & -3\n",
        "\\end{pmatrix}\n",
        "$$"
      ],
      "metadata": {
        "id": "HOfVoKyp5V7p"
      }
    }
  ]
}