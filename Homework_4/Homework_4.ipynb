{
  "nbformat": 4,
  "nbformat_minor": 0,
  "metadata": {
    "colab": {
      "provenance": []
    },
    "kernelspec": {
      "name": "python3",
      "display_name": "Python 3"
    },
    "language_info": {
      "name": "python"
    }
  },
  "cells": [
    {
      "cell_type": "markdown",
      "source": [
        "**Задача 1.** Выполнить операции над матрицами.\n"
      ],
      "metadata": {
        "id": "rzty6JkU-8Of"
      }
    },
    {
      "cell_type": "markdown",
      "source": [
        "$$\n",
        "A = \\begin{pmatrix}\n",
        "1 & 2 & 1\\\\\n",
        "-2 & 1 & 1\\\\\n",
        "\\end{pmatrix}\n",
        "$$\n",
        "\n",
        "$$\n",
        "B= \\begin{pmatrix}\n",
        "3 & 1\\\\\n",
        "-1 & 0\\\\\n",
        "2 & 4\n",
        "\\end{pmatrix}\n",
        "$$\n",
        "\n",
        "$$\n",
        "С= \\begin{pmatrix}\n",
        "-2 & 2\\\\\n",
        "1 & -1\\\\\n",
        "1 & 2\n",
        "\\end{pmatrix}\n",
        "$$"
      ],
      "metadata": {
        "id": "BNR3M82s_L_S"
      }
    },
    {
      "cell_type": "markdown",
      "source": [
        "Найти: A+2*B, B+2*C"
      ],
      "metadata": {
        "id": "iL_x60H6BFab"
      }
    },
    {
      "cell_type": "code",
      "source": [
        "import numpy as np"
      ],
      "metadata": {
        "id": "eSKiiEejBS7x"
      },
      "execution_count": 2,
      "outputs": []
    },
    {
      "cell_type": "code",
      "source": [
        "A = np.matrix([[1, 2, 1], [-2, 1, 1]])\n",
        "B = np.matrix([[3, 1], [-1, 0], [2, 4]])\n",
        "C = np.matrix([[-2, 2], [1, -1], [1, 2]])\n",
        "\n",
        "# Поскольку математически складывать матрицы разных порядков нельзя, транспонируем матрицу B с использованием Numpy\n",
        "result1 = np.add(A, np.dot(np.transpose(B), 2))\n",
        "print('A+2B = \\n', result1, '\\n')\n",
        "# Складываем матрицы одного порядка\n",
        "result2 = np.add(B, np.dot(C, 2))\n",
        "print('B+2C = \\n', result2)"
      ],
      "metadata": {
        "colab": {
          "base_uri": "https://localhost:8080/"
        },
        "id": "umg3vgevBEPS",
        "outputId": "60772a0b-80c0-4efd-d212-9b81dde1817a"
      },
      "execution_count": 6,
      "outputs": [
        {
          "output_type": "stream",
          "name": "stdout",
          "text": [
            "A+2B = \n",
            " [[7 0 5]\n",
            " [0 1 9]] \n",
            "\n",
            "B+2C = \n",
            " [[-1  5]\n",
            " [ 1 -2]\n",
            " [ 4  8]]\n"
          ]
        }
      ]
    },
    {
      "cell_type": "markdown",
      "source": [
        "**Задача 2.** Создать матрицу рзмером 8х8 элементов, состоящую из нулей. Заполнить эту матрицу значениями, расположенными в шахматном порядке."
      ],
      "metadata": {
        "id": "jHIQkS--Dqdd"
      }
    },
    {
      "cell_type": "code",
      "source": [
        "a = np.zeros((8, 8))\n",
        "\n",
        "a[::2, ::2] = 1\n",
        "a[1::2, 1::2] = 1\n",
        "\n",
        "print('Матрица\\n', a)"
      ],
      "metadata": {
        "colab": {
          "base_uri": "https://localhost:8080/"
        },
        "id": "gfvS10KVF6R-",
        "outputId": "a5d81154-10cc-4423-b8fe-30b9b7b7a60d"
      },
      "execution_count": null,
      "outputs": [
        {
          "output_type": "stream",
          "name": "stdout",
          "text": [
            "Матрица\n",
            " [[1. 0. 1. 0. 1. 0. 1. 0.]\n",
            " [0. 1. 0. 1. 0. 1. 0. 1.]\n",
            " [1. 0. 1. 0. 1. 0. 1. 0.]\n",
            " [0. 1. 0. 1. 0. 1. 0. 1.]\n",
            " [1. 0. 1. 0. 1. 0. 1. 0.]\n",
            " [0. 1. 0. 1. 0. 1. 0. 1.]\n",
            " [1. 0. 1. 0. 1. 0. 1. 0.]\n",
            " [0. 1. 0. 1. 0. 1. 0. 1.]]\n"
          ]
        }
      ]
    },
    {
      "cell_type": "markdown",
      "source": [
        "**Задача 3*.**\n",
        "1. Сформировать два вектора: первый длиной 15 элементов со значениями от 0 до 1,4 с шагом 0,1; второй - длиной 6 элементов со значениями от 1 до 6.\n",
        "2. Преобразовать первый вектор в матрицу 5х3, а второй - в матрицу 3Х2. Выполнить перемножение этих матриц. Сами матрицы и результат их перемножения вывести на экран."
      ],
      "metadata": {
        "id": "8z3-BGm0GxGe"
      }
    },
    {
      "cell_type": "code",
      "source": [
        "# Part 1\n",
        "a = np.arange(0, 1.5, 0.1)\n",
        "b = np.arange(1, 7)\n",
        "\n",
        "print('Первый вектор\\n', a)\n",
        "print('Второй вектор\\n', b)"
      ],
      "metadata": {
        "colab": {
          "base_uri": "https://localhost:8080/"
        },
        "id": "lTVjTAsxHarh",
        "outputId": "a2d8c2b7-ec70-4275-cd84-657ce0bec93a"
      },
      "execution_count": null,
      "outputs": [
        {
          "output_type": "stream",
          "name": "stdout",
          "text": [
            "Первый вектор\n",
            " [0.  0.1 0.2 0.3 0.4 0.5 0.6 0.7 0.8 0.9 1.  1.1 1.2 1.3 1.4]\n",
            "Второй вектор\n",
            " [1 2 3 4 5 6]\n"
          ]
        }
      ]
    },
    {
      "cell_type": "code",
      "source": [
        "# Part 2\n",
        "\n",
        "a1 = a.reshape(5,3)\n",
        "b1 = b.reshape(3,2)\n",
        "print('Первый вектор преобразованный в матрицу\\n', a1)\n",
        "print('Второй вектор преобразованный в матрицу\\n', b1)\n",
        "# Обращаем внимание, что у нас вектора, т.е. используем скалярное произведение\n",
        "c1 = a1@b1\n",
        "print('Произведение векторов\\n', c1)\n",
        "# или так\n",
        "с1 = np.matmul(a1, b1)\n",
        "print('Произведение векторов\\n', c1)"
      ],
      "metadata": {
        "colab": {
          "base_uri": "https://localhost:8080/"
        },
        "id": "Zz6zsddqHe5T",
        "outputId": "85169074-3d04-4795-ab7f-d5d76bb887f1"
      },
      "execution_count": null,
      "outputs": [
        {
          "output_type": "stream",
          "name": "stdout",
          "text": [
            "Первый вектор преобразованный в матрицу\n",
            " [[0.  0.1 0.2]\n",
            " [0.3 0.4 0.5]\n",
            " [0.6 0.7 0.8]\n",
            " [0.9 1.  1.1]\n",
            " [1.2 1.3 1.4]]\n",
            "Второй вектор преобразованный в матрицу\n",
            " [[1 2]\n",
            " [3 4]\n",
            " [5 6]]\n",
            "Произведение векторов\n",
            " [[ 1.3  1.6]\n",
            " [ 4.   5.2]\n",
            " [ 6.7  8.8]\n",
            " [ 9.4 12.4]\n",
            " [12.1 16. ]]\n",
            "Произведение векторов\n",
            " [[ 1.3  1.6]\n",
            " [ 4.   5.2]\n",
            " [ 6.7  8.8]\n",
            " [ 9.4 12.4]\n",
            " [12.1 16. ]]\n"
          ]
        }
      ]
    },
    {
      "cell_type": "markdown",
      "source": [
        "**Задача 4*.**\n",
        "1. Сформировать вектор из целых чисел (тип элементов должен быть int32) размерностью 36 и значениями 1, 3, 5, 7, ... и так далее.\n",
        "2. Выделить из этого вектора все элементы со значениями кратными 3. Вывести результат на экран (исходный вектор и с кратными числами)."
      ],
      "metadata": {
        "id": "fFU0O9CQJikY"
      }
    },
    {
      "cell_type": "code",
      "source": [
        "# Part 1\n",
        "a = np.arange(1, 72, 2, dtype=np.int32)\n",
        "\n",
        "print('Вектор\\n', a)\n",
        "print('Проверяем размерность вектора:\\n', len(a))\n"
      ],
      "metadata": {
        "colab": {
          "base_uri": "https://localhost:8080/"
        },
        "id": "dS60P4PFK0jg",
        "outputId": "3a912cea-1083-4386-87af-b57e94f20ce0"
      },
      "execution_count": null,
      "outputs": [
        {
          "output_type": "stream",
          "name": "stdout",
          "text": [
            "Вектор\n",
            " [ 1  3  5  7  9 11 13 15 17 19 21 23 25 27 29 31 33 35 37 39 41 43 45 47\n",
            " 49 51 53 55 57 59 61 63 65 67 69 71]\n",
            "Проверяем размерность вектора:\n",
            " 36\n"
          ]
        }
      ]
    },
    {
      "cell_type": "code",
      "source": [
        "# Part 2\n",
        "\n",
        "#Если проанализировать массив, то каждое 3е значение начиная с 3 делится на 3 нацело, соответственно:\n",
        "b = a[1::3]\n",
        "print('Исходный вектор\\n', a)\n",
        "print('Вектор с кратными числами\\n', b)\n",
        "\n",
        "# или просто выведем значения, которые деляться на 3 без остатка\n",
        "b = a[a % 3 == 0]\n",
        "print('Вектор с кратными числами\\n', b)\n"
      ],
      "metadata": {
        "colab": {
          "base_uri": "https://localhost:8080/"
        },
        "id": "Dbm_1kKTLE4o",
        "outputId": "1712b039-bf3c-423d-a68a-e081d0008dac"
      },
      "execution_count": null,
      "outputs": [
        {
          "output_type": "stream",
          "name": "stdout",
          "text": [
            "Исходный вектор\n",
            " [ 1  3  5  7  9 11 13 15 17 19 21 23 25 27 29 31 33 35 37 39 41 43 45 47\n",
            " 49 51 53 55 57 59 61 63 65 67 69 71]\n",
            "Вектор с кратными числами\n",
            " [ 3  9 15 21 27 33 39 45 51 57 63 69]\n",
            "Вектор с кратными числами\n",
            " [ 3  9 15 21 27 33 39 45 51 57 63 69]\n"
          ]
        }
      ]
    }
  ]
}